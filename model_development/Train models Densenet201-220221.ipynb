{
 "cells": [
  {
   "cell_type": "code",
   "execution_count": 3,
   "metadata": {},
   "outputs": [
    {
     "name": "stdout",
     "output_type": "stream",
     "text": [
      "Mon Feb 21 14:34:34 2022       \n",
      "+-----------------------------------------------------------------------------+\n",
      "| NVIDIA-SMI 470.63.01    Driver Version: 470.63.01    CUDA Version: 11.4     |\n",
      "|-------------------------------+----------------------+----------------------+\n",
      "| GPU  Name        Persistence-M| Bus-Id        Disp.A | Volatile Uncorr. ECC |\n",
      "| Fan  Temp  Perf  Pwr:Usage/Cap|         Memory-Usage | GPU-Util  Compute M. |\n",
      "|                               |                      |               MIG M. |\n",
      "|===============================+======================+======================|\n",
      "|   0  Tesla P100-PCIE...  Off  | 00000000:08:00.0 Off |                    0 |\n",
      "| N/A   24C    P0    32W / 250W |      0MiB / 16280MiB |      0%      Default |\n",
      "|                               |                      |                  N/A |\n",
      "+-------------------------------+----------------------+----------------------+\n",
      "|   1  Tesla P100-PCIE...  Off  | 00000000:0B:00.0 Off |                    0 |\n",
      "| N/A   27C    P0    33W / 250W |      0MiB / 16280MiB |      0%      Default |\n",
      "|                               |                      |                  N/A |\n",
      "+-------------------------------+----------------------+----------------------+\n",
      "|   2  Tesla P100-PCIE...  Off  | 00000000:0E:00.0 Off |                    0 |\n",
      "| N/A   28C    P0    31W / 250W |      0MiB / 16280MiB |      0%      Default |\n",
      "|                               |                      |                  N/A |\n",
      "+-------------------------------+----------------------+----------------------+\n",
      "|   3  Tesla P100-PCIE...  Off  | 00000000:11:00.0 Off |                    0 |\n",
      "| N/A   29C    P0    28W / 250W |      0MiB / 16280MiB |      2%      Default |\n",
      "|                               |                      |                  N/A |\n",
      "+-------------------------------+----------------------+----------------------+\n",
      "                                                                               \n",
      "+-----------------------------------------------------------------------------+\n",
      "| Processes:                                                                  |\n",
      "|  GPU   GI   CI        PID   Type   Process name                  GPU Memory |\n",
      "|        ID   ID                                                   Usage      |\n",
      "|=============================================================================|\n",
      "|  No running processes found                                                 |\n",
      "+-----------------------------------------------------------------------------+\n"
     ]
    }
   ],
   "source": [
    "!nvidia-smi"
   ]
  },
  {
   "cell_type": "code",
   "execution_count": 10,
   "metadata": {},
   "outputs": [],
   "source": [
    "data_folder = '/media/QNAP/People/BartLiefers/ROP/220118/ROP/Images/Media'\n",
    "import os\n",
    "import csv\n",
    "import json\n",
    "from collections import Counter\n",
    "from itertools import combinations\n",
    "\n",
    "from PIL import Image\n",
    "import numpy as np\n",
    "\n",
    "from keras.applications import DenseNet201\n",
    "from keras.models import Model\n",
    "from keras.layers import MaxPool2D, Dense, Conv2D, Flatten, Softmax\n",
    "from keras.optimizers import Adam\n",
    "\n",
    "from sklearn.metrics import roc_auc_score\n",
    "import batch_preparation\n",
    "\n",
    "\n",
    "from matplotlib import pylab as plt\n",
    "from IPython.display import clear_output\n"
   ]
  },
  {
   "cell_type": "markdown",
   "metadata": {},
   "source": [
    "## Config"
   ]
  },
  {
   "cell_type": "code",
   "execution_count": 11,
   "metadata": {},
   "outputs": [],
   "source": [
    "input_size = 512, 512\n",
    "\n",
    "batch_size = 6\n",
    "learning_rate = 1e-5\n",
    "\n",
    "n_iterations_per_epoch = 100\n",
    "n_epochs = 100\n",
    "\n",
    "grading_labels = {\n",
    "    'normal': [1,0,0],\n",
    "    'pre-plus': [0,1,0],\n",
    "    'plus': [0,0,1],\n",
    "}\n",
    "n_classes = len(grading_labels)\n",
    "\n",
    "model_folder = 'models_220221'\n",
    "import os\n",
    "os.makedirs(model_folder)"
   ]
  },
  {
   "cell_type": "markdown",
   "metadata": {},
   "source": [
    "## Load data"
   ]
  },
  {
   "cell_type": "code",
   "execution_count": 12,
   "metadata": {},
   "outputs": [
    {
     "data": {
      "text/plain": [
       "7414"
      ]
     },
     "execution_count": 12,
     "metadata": {},
     "output_type": "execute_result"
    }
   ],
   "source": [
    "with open('../src/data/new_data_split.csv', 'r') as f:\n",
    "    split = list(csv.reader(f))\n",
    "    header = split[0]\n",
    "    data = split[1:]\n",
    "    \n",
    "len(data)"
   ]
  },
  {
   "cell_type": "code",
   "execution_count": 13,
   "metadata": {},
   "outputs": [
    {
     "data": {
      "text/plain": [
       "['file', 'subset', 'CH', 'JT', 'CK', 'SB', 'GA', 'group']"
      ]
     },
     "execution_count": 13,
     "metadata": {},
     "output_type": "execute_result"
    }
   ],
   "source": [
    "header"
   ]
  },
  {
   "cell_type": "code",
   "execution_count": 14,
   "metadata": {},
   "outputs": [
    {
     "data": {
      "text/plain": [
       "Counter({'normal': 6220, 'ungradable': 487, 'pre-plus': 362, 'plus': 345})"
      ]
     },
     "execution_count": 14,
     "metadata": {},
     "output_type": "execute_result"
    }
   ],
   "source": [
    "Counter(d[-1] for d in data)"
   ]
  },
  {
   "cell_type": "code",
   "execution_count": 15,
   "metadata": {},
   "outputs": [
    {
     "data": {
      "text/plain": [
       "Counter({'fold_0': 1349,\n",
       "         'excluded': 594,\n",
       "         'test': 200,\n",
       "         'fold_1': 1353,\n",
       "         'fold_2': 1313,\n",
       "         'fold_3': 1300,\n",
       "         'fold_4': 1305})"
      ]
     },
     "execution_count": 15,
     "metadata": {},
     "output_type": "execute_result"
    }
   ],
   "source": [
    "Counter(d[1] for d in data)"
   ]
  },
  {
   "cell_type": "code",
   "execution_count": 16,
   "metadata": {},
   "outputs": [],
   "source": [
    "all_files = [d[0] for d in data]"
   ]
  },
  {
   "cell_type": "code",
   "execution_count": 17,
   "metadata": {},
   "outputs": [
    {
     "data": {
      "text/plain": [
       "7414"
      ]
     },
     "execution_count": 17,
     "metadata": {},
     "output_type": "execute_result"
    }
   ],
   "source": [
    "len(all_files)"
   ]
  },
  {
   "cell_type": "code",
   "execution_count": 18,
   "metadata": {},
   "outputs": [],
   "source": [
    "# load all images into memory (takes a while)\n",
    "all_data = {\n",
    "    path: np.array(Image.open(os.path.join(data_folder, path)))[:,:,:3]\n",
    "    for path in all_files\n",
    "}"
   ]
  },
  {
   "cell_type": "markdown",
   "metadata": {},
   "source": [
    "## Folds"
   ]
  },
  {
   "cell_type": "code",
   "execution_count": 19,
   "metadata": {},
   "outputs": [],
   "source": [
    "fold_names = 'fold_0', 'fold_1', 'fold_2', 'fold_3', 'fold_4', 'test', 'excluded'\n",
    "\n",
    "# {foldname: [(filename, grading), ...]}\n",
    "# using group label (row[-1])\n",
    "fold_files = {fold_name: [(row[0], row[-1]) for row in data if row[1] == fold_name]\n",
    "             for fold_name in fold_names}"
   ]
  },
  {
   "cell_type": "code",
   "execution_count": 20,
   "metadata": {},
   "outputs": [
    {
     "name": "stdout",
     "output_type": "stream",
     "text": [
      "fold_0 1349\n",
      "fold_1 1353\n",
      "fold_2 1313\n",
      "fold_3 1300\n",
      "fold_4 1305\n",
      "test 200\n",
      "excluded 594\n"
     ]
    }
   ],
   "source": [
    "for name, files in fold_files.items():\n",
    "    print(name, len(files))"
   ]
  },
  {
   "cell_type": "code",
   "execution_count": 21,
   "metadata": {},
   "outputs": [],
   "source": [
    "def get_grading_data(folds, grading_labels):\n",
    "    \n",
    "    # all files and gradings in folds\n",
    "    files = [(path, grading) for fold_name, fold_items in fold_files.items()\n",
    "                  for path, grading in fold_items if fold_name in folds]\n",
    "    \n",
    "    # map grading to list of raw images (np array)\n",
    "    result = {\n",
    "        grading: [all_data[path] for path, g in files if grading == g]\n",
    "        for grading in grading_labels\n",
    "    }\n",
    "    print({k:len(v) for k, v in result.items()})\n",
    "    return result\n",
    "\n",
    "def get_data(validation_fold, grading_labels):\n",
    "    training_folds = {f for f in fold_names if f not in (validation_fold, 'test', 'excluded') }\n",
    "    \n",
    "    training_data = get_grading_data(training_folds, grading_labels)\n",
    "    validation_data = get_grading_data((validation_fold, ), grading_labels)\n",
    "    \n",
    "    return training_data, validation_data"
   ]
  },
  {
   "cell_type": "markdown",
   "metadata": {},
   "source": [
    "## Model"
   ]
  },
  {
   "cell_type": "code",
   "execution_count": 22,
   "metadata": {},
   "outputs": [],
   "source": [
    "def get_model():\n",
    "    \n",
    "    base_model = DenseNet201(\n",
    "        include_top=False,\n",
    "        weights=\"imagenet\",\n",
    "        input_tensor=None,\n",
    "        input_shape=(*input_size, n_classes),\n",
    "        pooling=None,\n",
    "    )\n",
    "\n",
    "    l = MaxPool2D()(base_model.output)\n",
    "    l = Conv2D(filters=512, kernel_size=(1, 1), activation='relu')(l)\n",
    "    l = Flatten()(l)\n",
    "    l = Dense(units=n_classes)(l)\n",
    "    l = Softmax()(l)\n",
    "    model = Model(base_model.input, l)\n",
    "    \n",
    "    optimizer = Adam(lr=learning_rate)\n",
    "    model.compile(optimizer=optimizer, loss='categorical_crossentropy')\n",
    "    return model\n"
   ]
  },
  {
   "cell_type": "markdown",
   "metadata": {},
   "source": [
    "## Validation"
   ]
  },
  {
   "cell_type": "code",
   "execution_count": 23,
   "metadata": {},
   "outputs": [],
   "source": [
    "def avg_auc(scores, grading_labels):\n",
    "    return np.mean([scores[k] for k in grading_labels])\n",
    "\n",
    "def validate(model, grading_labels, data_set_preprocessed):\n",
    "    \n",
    "    n = len(data_set_preprocessed)\n",
    "    yt = np.zeros((n, 3))\n",
    "    yp = np.zeros((n, 3))\n",
    "    \n",
    "    for i, (grading, x) in enumerate(data_set_preprocessed):\n",
    "        yt[i] = grading_labels[grading]\n",
    "        yp[i] = model.predict_on_batch(x[np.newaxis])[0]\n",
    "           \n",
    "    scores = {}\n",
    "    for name, labels in grading_labels.items():\n",
    "        i = np.argmax(labels)\n",
    "        try:\n",
    "            scores[name] = roc_auc_score(yt[:,i], yp[:,i])\n",
    "        except:\n",
    "            scores[name] = np.nan\n",
    "    \n",
    "    scores['avg_auc'] = avg_auc(scores, grading_labels)\n",
    "    \n",
    "    correct = np.argmax(yt, axis=-1) == np.argmax(yp, axis=-1)\n",
    "    scores['accuracy'] = np.count_nonzero(correct) / n\n",
    "\n",
    "    return scores\n"
   ]
  },
  {
   "cell_type": "markdown",
   "metadata": {},
   "source": [
    "## Training loop"
   ]
  },
  {
   "cell_type": "code",
   "execution_count": 24,
   "metadata": {},
   "outputs": [
    {
     "name": "stdout",
     "output_type": "stream",
     "text": [
      "{'normal': 4642, 'pre-plus': 194, 'plus': 100}\n",
      "{'normal': 1129, 'pre-plus': 41, 'plus': 35}\n"
     ]
    }
   ],
   "source": [
    "validation_fold = 'fold_0'\n",
    "training_data, validation_data = get_data(validation_fold, grading_labels)"
   ]
  },
  {
   "cell_type": "code",
   "execution_count": 25,
   "metadata": {},
   "outputs": [
    {
     "data": {
      "text/plain": [
       "(4642, 194, 100)"
      ]
     },
     "execution_count": 25,
     "metadata": {},
     "output_type": "execute_result"
    }
   ],
   "source": [
    "len(training_data['normal']), len(training_data['pre-plus']), len(training_data['plus'])"
   ]
  },
  {
   "cell_type": "code",
   "execution_count": 26,
   "metadata": {},
   "outputs": [],
   "source": [
    "def get_batches(validation_fold, grading_labels):\n",
    "    training_data, validation_data = get_data(validation_fold, grading_labels)\n",
    "\n",
    "    training_batch_preparation = batch_preparation.BatchPreparationClassBalanced(\n",
    "        grading_labels, \n",
    "        training_data, \n",
    "        n_channels = 3, \n",
    "        batch_size = batch_size, \n",
    "    )\n",
    "\n",
    "    validation_set_preprocessed = [(grading, batch_preparation.sample_patch(image, augment=False))\n",
    "                                   for grading, images in validation_data.items() \n",
    "                                   for image in images]\n",
    "\n",
    "    return training_batch_preparation, validation_set_preprocessed"
   ]
  },
  {
   "cell_type": "code",
   "execution_count": 27,
   "metadata": {},
   "outputs": [],
   "source": [
    "def training_loop(validation_fold, grading_labels):\n",
    "    \n",
    "    model = get_model()\n",
    "    \n",
    "    training_batch_preparation, validation_set_preprocessed = get_batches(validation_fold, grading_labels)\n",
    "    \n",
    "    losses = []\n",
    "    all_scores = {k:[] for k in grading_labels}\n",
    "    all_scores['accuracy'] = []\n",
    "    all_scores['avg_auc'] = []\n",
    "\n",
    "    best_normal_auc = 0\n",
    "    best_avg_auc = 0\n",
    "    \n",
    "    for epoch in range(n_epochs):\n",
    "        for i in range(n_iterations_per_epoch):\n",
    "            x, y = training_batch_preparation.get_batch()\n",
    "            loss = model.train_on_batch(x, y)\n",
    "            losses.append(loss)\n",
    "           \n",
    "        scores = validate(model, grading_labels, validation_set_preprocessed)\n",
    "        \n",
    "        improvement = False\n",
    "        if scores['normal'] > best_normal_auc:\n",
    "            best_normal_auc = scores['normal']\n",
    "            improvement = True\n",
    "        if scores['avg_auc'] > best_avg_auc:\n",
    "            best_avg_auc = scores['avg_auc']\n",
    "            improvement = True\n",
    "            \n",
    "        if improvement and epoch > 15:\n",
    "            model.save('{}/val_fold_{}_epoch_{}'.format(model_folder, validation_fold, epoch))\n",
    "        \n",
    "        for k, v in scores.items():\n",
    "            all_scores[k].append(v)\n",
    "        \n",
    "        display(losses, scores, all_scores, epoch)\n",
    "        \n",
    "    return model, losses, all_scores\n",
    "        \n",
    "\n",
    "def display(losses, scores, all_scores, epoch):\n",
    "    \n",
    "    clear_output()\n",
    "    print(scores)    \n",
    "    print('epoch: ', epoch)\n",
    "\n",
    "    plt.plot(losses, label='loss')    \n",
    "    plt.plot(np.convolve(losses, np.ones(20))/20, label='loss')    \n",
    "    plt.legend()\n",
    "    plt.show()\n",
    "\n",
    "    for k, v in scores.items():\n",
    "        plt.plot(all_scores[k], label=k)\n",
    "    plt.legend()\n",
    "    plt.show()\n",
    "        \n",
    "    for k, v in scores.items():\n",
    "        plt.plot(np.log(1 - np.array(all_scores[k])), label=k)\n",
    "    plt.legend()\n",
    "    plt.show()        "
   ]
  },
  {
   "cell_type": "code",
   "execution_count": null,
   "metadata": {},
   "outputs": [
    {
     "name": "stdout",
     "output_type": "stream",
     "text": [
      "{'normal': 0.7453388762912573, 'pre-plus': 0.6728241125581108, 'plus': 0.7465903143376127, 'avg_auc': 0.7215844343956602, 'accuracy': 0.683739837398374}\n",
      "epoch:  2\n"
     ]
    },
    {
     "data": {
      "image/png": "[encoded data removed]",
      "text/plain": [
       "<Figure size 432x288 with 1 Axes>"
      ]
     },
     "metadata": {
      "needs_background": "light"
     },
     "output_type": "display_data"
    },
    {
     "data": {
      "image/png": "[encoded data removed]",
      "text/plain": [
       "<Figure size 432x288 with 1 Axes>"
      ]
     },
     "metadata": {
      "needs_background": "light"
     },
     "output_type": "display_data"
    },
    {
     "data": {
      "image/png": "[encoded data removed]",
      "text/plain": [
       "<Figure size 432x288 with 1 Axes>"
      ]
     },
     "metadata": {
      "needs_background": "light"
     },
     "output_type": "display_data"
    }
   ],
   "source": [
    "for f in range(5):\n",
    "    validation_fold = 'fold_{}'.format(f)\n",
    "    export_file = 'scores220221_{}.json'.format(validation_fold)\n",
    "    \n",
    "    if os.path.exists(export_file):\n",
    "        continue\n",
    "        \n",
    "    print('starting training loop', validation_fold)\n",
    "    model, losses, all_scores = training_loop(validation_fold, grading_labels)\n",
    "    with open(export_file, 'w') as f:\n",
    "        json.dump({\n",
    "            'losses': [float(l) for l in losses],\n",
    "            'all_scores': all_scores\n",
    "        }, f)\n",
    "\n",
    "        \n",
    "    "
   ]
  },
  {
   "cell_type": "code",
   "execution_count": null,
   "metadata": {},
   "outputs": [],
   "source": []
  }
 ],
 "metadata": {
  "kernelspec": {
   "display_name": "Python 3",
   "language": "python",
   "name": "python3"
  },
  "language_info": {
   "codemirror_mode": {
    "name": "ipython",
    "version": 3
   },
   "file_extension": ".py",
   "mimetype": "text/x-python",
   "name": "python",
   "nbconvert_exporter": "python",
   "pygments_lexer": "ipython3",
   "version": "3.6.9"
  }
 },
 "nbformat": 4,
 "nbformat_minor": 4
}
