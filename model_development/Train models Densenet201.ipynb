{
 "cells": [
  {
   "cell_type": "code",
   "execution_count": null,
   "metadata": {},
   "outputs": [],
   "source": [
    "!nvidia-smi"
   ]
  },
  {
   "cell_type": "code",
   "execution_count": 52,
   "metadata": {},
   "outputs": [],
   "source": [
    "data_folder = '/media/QNAP/People/GongyuZhang/ROP/data/raw/image/'\n",
    "import os\n",
    "import csv\n",
    "import json\n",
    "from collections import Counter\n",
    "from itertools import combinations\n",
    "\n",
    "from PIL import Image\n",
    "import numpy as np\n",
    "\n",
    "from keras.applications import DenseNet201\n",
    "from keras.models import Model\n",
    "from keras.layers import MaxPool2D, Dense, Conv2D, Flatten, Softmax\n",
    "from keras.optimizers import Adam\n",
    "\n",
    "from sklearn.metrics import roc_auc_score\n",
    "import batch_preparation\n",
    "\n",
    "\n",
    "from matplotlib import pylab as plt\n",
    "from IPython.display import clear_output\n"
   ]
  },
  {
   "cell_type": "markdown",
   "metadata": {},
   "source": [
    "## Config"
   ]
  },
  {
   "cell_type": "code",
   "execution_count": 11,
   "metadata": {},
   "outputs": [],
   "source": [
    "input_size = 512, 512\n",
    "\n",
    "batch_size = 6\n",
    "learning_rate = 1e-5\n",
    "\n",
    "n_iterations_per_epoch = 100\n",
    "n_epochs = 60\n",
    "\n",
    "grading_labels = {\n",
    "    'normal': [1,0,0],\n",
    "    'preplus': [0,1,0],\n",
    "    'plus': [0,0,1],\n",
    "}\n",
    "n_classes = len(grading_labels)"
   ]
  },
  {
   "cell_type": "markdown",
   "metadata": {},
   "source": [
    "## Load data"
   ]
  },
  {
   "cell_type": "code",
   "execution_count": 12,
   "metadata": {},
   "outputs": [
    {
     "data": {
      "text/plain": [
       "7414"
      ]
     },
     "execution_count": 12,
     "metadata": {},
     "output_type": "execute_result"
    }
   ],
   "source": [
    "with open('../src/data/data_split.csv', 'r') as f:\n",
    "    split = list(csv.reader(f))\n",
    "    header = split[0]\n",
    "    data = split[1:]\n",
    "    \n",
    "len(data)"
   ]
  },
  {
   "cell_type": "code",
   "execution_count": 13,
   "metadata": {},
   "outputs": [
    {
     "data": {
      "text/plain": [
       "['file', 'subset', 'CH', 'JT', 'KP', 'SB', 'GA', 'group']"
      ]
     },
     "execution_count": 13,
     "metadata": {},
     "output_type": "execute_result"
    }
   ],
   "source": [
    "header"
   ]
  },
  {
   "cell_type": "code",
   "execution_count": 14,
   "metadata": {},
   "outputs": [
    {
     "data": {
      "text/plain": [
       "Counter({'normal': 6385, 'ungradable': 564, 'pre-plus': 235, 'plus': 230})"
      ]
     },
     "execution_count": 14,
     "metadata": {},
     "output_type": "execute_result"
    }
   ],
   "source": [
    "Counter(d[-1] for d in data)"
   ]
  },
  {
   "cell_type": "code",
   "execution_count": 15,
   "metadata": {},
   "outputs": [],
   "source": [
    "all_files = [d[0] for d in data]"
   ]
  },
  {
   "cell_type": "code",
   "execution_count": 16,
   "metadata": {},
   "outputs": [
    {
     "data": {
      "text/plain": [
       "7414"
      ]
     },
     "execution_count": 16,
     "metadata": {},
     "output_type": "execute_result"
    }
   ],
   "source": [
    "len(all_files)"
   ]
  },
  {
   "cell_type": "code",
   "execution_count": 18,
   "metadata": {},
   "outputs": [],
   "source": [
    "# load all images into memory (takes a while)\n",
    "all_data = {\n",
    "    path: np.array(Image.open(os.path.join(data_folder, path)))[:,:,:3]\n",
    "    for path in all_files\n",
    "}"
   ]
  },
  {
   "cell_type": "markdown",
   "metadata": {},
   "source": [
    "## Folds"
   ]
  },
  {
   "cell_type": "code",
   "execution_count": 53,
   "metadata": {},
   "outputs": [],
   "source": [
    "fold_names = 'fold_0', 'fold_1', 'fold_2', 'fold_3', 'fold_4', 'test', 'exclude'\n",
    "\n",
    "# {foldname: [(filename, grading), ...]}\n",
    "# using group label (row[-1])\n",
    "fold_files = {fold_name: [(row[0], row[-1]) for row in data if row[1] == fold_name]\n",
    "             for fold_name in fold_names}"
   ]
  },
  {
   "cell_type": "code",
   "execution_count": 54,
   "metadata": {},
   "outputs": [],
   "source": [
    "def get_grading_data(folds, grading_labels):\n",
    "    \n",
    "    # all files and gradings in folds\n",
    "    files = [(path, grading) for fold_name, fold_items in fold_files.items()\n",
    "                  for path, grading in fold_items if fold_name in folds]\n",
    "    \n",
    "    # map grading to list of raw images (np array)\n",
    "    return {\n",
    "        grading: [all_data[path] for path, g in files if grading == g]\n",
    "        for grading in grading_labels\n",
    "    }\n",
    "\n",
    "def get_data(validation_fold, grading_labels):\n",
    "    training_folds = {f for f in fold_names if f!= validation_fold and f!='test'}\n",
    "    \n",
    "    training_data = get_grading_data(training_folds, grading_labels)\n",
    "    validation_data = get_grading_data((validation_fold, ), grading_labels)\n",
    "    \n",
    "    return training_data, validation_data"
   ]
  },
  {
   "cell_type": "markdown",
   "metadata": {},
   "source": [
    "## Model"
   ]
  },
  {
   "cell_type": "code",
   "execution_count": 55,
   "metadata": {},
   "outputs": [],
   "source": [
    "def get_model():\n",
    "    \n",
    "    base_model = DenseNet201(\n",
    "        include_top=False,\n",
    "        weights=\"imagenet\",\n",
    "        input_tensor=None,\n",
    "        input_shape=(*input_size, n_classes),\n",
    "        pooling=None,\n",
    "    )\n",
    "\n",
    "    l = MaxPool2D()(base_model.output)\n",
    "    l = Conv2D(filters=512, kernel_size=(1, 1), activation='relu')(l)\n",
    "    l = Flatten()(l)\n",
    "    l = Dense(units=n_classes)(l)\n",
    "    l = Softmax()(l)\n",
    "    model = Model(base_model.input, l)\n",
    "    \n",
    "    optimizer = Adam(lr=learning_rate)\n",
    "    model.compile(optimizer=optimizer, loss='categorical_crossentropy')\n",
    "    return model\n"
   ]
  },
  {
   "cell_type": "markdown",
   "metadata": {},
   "source": [
    "## Validation"
   ]
  },
  {
   "cell_type": "code",
   "execution_count": 56,
   "metadata": {},
   "outputs": [],
   "source": [
    "def avg_auc(scores, grading_labels):\n",
    "    return np.mean([scores[k] for k in grading_labels])\n",
    "\n",
    "\n",
    "def validate(model, grading_labels, data_set_preprocessed):\n",
    "    \n",
    "    n = len(data_set_preprocessed)\n",
    "    yt = np.zeros((n, 3))\n",
    "    yp = np.zeros((n, 3))\n",
    "    \n",
    "    for i, (grading, x) in enumerate(data_set_preprocessed):\n",
    "        yt[i] = grading_labels[grading]\n",
    "        yp[i] = model.predict_on_batch(x[np.newaxis])[0]\n",
    "           \n",
    "    scores = {}\n",
    "    for name, labels in grading_labels.items():\n",
    "        i = np.argmax(labels)\n",
    "        try:\n",
    "            scores[name] = roc_auc_score(yt[:,i], yp[:,i])\n",
    "        except:\n",
    "            scores[name] = np.nan\n",
    "    \n",
    "    scores['avg_auc'] = avg_auc(scores, grading_labels)\n",
    "    \n",
    "    correct = np.argmax(yt, axis=-1) == np.argmax(yp, axis=-1)\n",
    "    scores['accuracy'] = np.count_nonzero(correct) / n\n",
    "\n",
    "    return scores\n"
   ]
  },
  {
   "cell_type": "markdown",
   "metadata": {},
   "source": [
    "## Training loop"
   ]
  },
  {
   "cell_type": "code",
   "execution_count": 57,
   "metadata": {},
   "outputs": [],
   "source": [
    "def get_batches(validation_fold, grading_labels):\n",
    "    training_data, validation_data = get_data(validation_fold, grading_labels)\n",
    "\n",
    "    training_batch_preparation = batch_preparation.BatchPreparationClassBalanced(\n",
    "        grading_labels, \n",
    "        training_data, \n",
    "        n_channels = 3, \n",
    "        batch_size = batch_size, \n",
    "    )\n",
    "\n",
    "    validation_set_preprocessed = [(grading, batch_preparation.sample_patch(image, augment=False))\n",
    "                                   for grading, images in validation_data.items() \n",
    "                                   for image in images]\n",
    "\n",
    "    return training_batch_preparation, validation_set_preprocessed"
   ]
  },
  {
   "cell_type": "code",
   "execution_count": 61,
   "metadata": {},
   "outputs": [],
   "source": [
    "def training_loop(validation_fold, grading_labels):\n",
    "    \n",
    "    model = get_model()\n",
    "    \n",
    "    training_batch_preparation, validation_set_preprocessed = get_batches(validation_fold, grading_labels)\n",
    "    \n",
    "    losses = []\n",
    "    all_scores = {k:[] for k in grading_labels}\n",
    "    all_scores['accuracy'] = []\n",
    "    all_scores['avg_auc'] = []\n",
    "\n",
    "    best_normal_auc = 0\n",
    "    for epoch in range(n_epochs):\n",
    "        for i in range(n_iterations_per_epoch):\n",
    "            x, y = training_batch_preparation.get_batch()\n",
    "            loss = model.train_on_batch(x, y)\n",
    "            losses.append(loss)\n",
    "           \n",
    "        scores = validate(model, grading_labels, validation_set_preprocessed)\n",
    "        \n",
    "        if scores['normal'] > best_normal_auc:\n",
    "            best_normal_auc = scores['normal']\n",
    "            \n",
    "            if epoch > 10:\n",
    "                model.save('models/val_fold_{}_epoch_{}'.format(validation_fold, epoch))\n",
    "        \n",
    "        for k, v in scores.items():\n",
    "            all_scores[k].append(v)\n",
    "        \n",
    "        \n",
    "        display(losses, scores, all_scores, epoch)\n",
    "        \n",
    "    return model, losses, all_scores\n",
    "        \n",
    "\n",
    "def display(losses, scores, all_scores, epoch):\n",
    "    \n",
    "    clear_output()\n",
    "    print(scores)    \n",
    "    print('epoch: ', epoch)\n",
    "\n",
    "    plt.plot(losses, label='loss')    \n",
    "    plt.plot(np.convolve(losses, np.ones(20))/20, label='loss')    \n",
    "    plt.legend()\n",
    "    plt.show()\n",
    "\n",
    "    for k, v in scores.items():\n",
    "        plt.plot(all_scores[k], label=k)\n",
    "    \n",
    "    plt.legend()\n",
    "    plt.show()\n",
    "        \n",
    "        "
   ]
  },
  {
   "cell_type": "code",
   "execution_count": null,
   "metadata": {},
   "outputs": [
    {
     "name": "stdout",
     "output_type": "stream",
     "text": [
      "{'normal': 0.9974489795918368, 'preplus': nan, 'plus': 0.9974489795918366, 'avg_auc': nan, 'accuracy': 0.9916387959866221}\n",
      "epoch:  32\n"
     ]
    },
    {
     "data": {
      "image/png": "[encoded data removed]",
      "text/plain": [
       "<Figure size 432x288 with 1 Axes>"
      ]
     },
     "metadata": {
      "needs_background": "light"
     },
     "output_type": "display_data"
    },
    {
     "data": {
      "image/png": "[encoded data removed]",
      "text/plain": [
       "<Figure size 432x288 with 1 Axes>"
      ]
     },
     "metadata": {
      "needs_background": "light"
     },
     "output_type": "display_data"
    }
   ],
   "source": [
    "for f in range(5):\n",
    "    validation_fold = 'fold_{}'.format(f)\n",
    "    export_file = 'scores_{}.json'.format(validation_fold)\n",
    "    \n",
    "    if os.path.exists(export_file):\n",
    "        continue\n",
    "        \n",
    "    print('starting training loop', validation_fold)\n",
    "    model, losses, all_scores = training_loop(validation_fold, grading_labels)\n",
    "    with open(export_file, 'w') as f:\n",
    "        json.dump({\n",
    "            'losses': [float(l) for l in losses],\n",
    "            'all_scores': all_scores\n",
    "        }, f)\n",
    "\n",
    "        \n",
    "    "
   ]
  },
  {
   "cell_type": "code",
   "execution_count": null,
   "metadata": {},
   "outputs": [],
   "source": []
  }
 ],
 "metadata": {
  "kernelspec": {
   "display_name": "Python 3",
   "language": "python",
   "name": "python3"
  },
  "language_info": {
   "codemirror_mode": {
    "name": "ipython",
    "version": 3
   },
   "file_extension": ".py",
   "mimetype": "text/x-python",
   "name": "python",
   "nbconvert_exporter": "python",
   "pygments_lexer": "ipython3",
   "version": "3.6.9"
  }
 },
 "nbformat": 4,
 "nbformat_minor": 4
}
