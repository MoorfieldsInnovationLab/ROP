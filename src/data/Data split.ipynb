{
 "cells": [
  {
   "cell_type": "code",
   "execution_count": 1,
   "metadata": {},
   "outputs": [],
   "source": [
    "import csv\n",
    "with open('original_gradings.csv', 'r') as f:\n",
    "    all_gradings = list(csv.reader(f))"
   ]
  },
  {
   "cell_type": "code",
   "execution_count": 2,
   "metadata": {},
   "outputs": [
    {
     "data": {
      "text/plain": [
       "{'CH', 'GA', 'JT', 'KP', 'SB'}"
      ]
     },
     "execution_count": 2,
     "metadata": {},
     "output_type": "execute_result"
    }
   ],
   "source": [
    "{grader for path, grader, grade in all_gradings}"
   ]
  },
  {
   "cell_type": "code",
   "execution_count": 3,
   "metadata": {},
   "outputs": [],
   "source": [
    "juniors = 'CH', 'JT', 'KP', 'SB'\n",
    "all_graders = juniors + ('GA',)"
   ]
  },
  {
   "cell_type": "code",
   "execution_count": 4,
   "metadata": {},
   "outputs": [
    {
     "data": {
      "text/plain": [
       "(7414, 22252, 22252)"
      ]
     },
     "execution_count": 4,
     "metadata": {},
     "output_type": "execute_result"
    }
   ],
   "source": [
    "all_files = {filename for filename, grader, grade in all_gradings}\n",
    "all_gradings_index = {(filename, grader): grade for filename, grader, grade in all_gradings}\n",
    "len(all_files), len(all_gradings), len(all_gradings_index)"
   ]
  },
  {
   "cell_type": "code",
   "execution_count": 5,
   "metadata": {},
   "outputs": [],
   "source": [
    "def get_group_label(filename):\n",
    "    all_junior_labels = [all_gradings_index[filename, grader] \n",
    "                         for grader in juniors\n",
    "                         if (filename, grader) in all_gradings_index\n",
    "                        ]\n",
    "    # at least 2 juniors have graded, and they all agree\n",
    "    if len(all_junior_labels) > 1 and len(set(all_junior_labels)) == 1:\n",
    "        return all_junior_labels[0]\n",
    "\n",
    "    # only 1 junior label available or disagreement\n",
    "    return all_gradings_index[filename, 'GA']\n",
    "    "
   ]
  },
  {
   "cell_type": "code",
   "execution_count": 6,
   "metadata": {},
   "outputs": [
    {
     "data": {
      "text/plain": [
       "'normal'"
      ]
     },
     "execution_count": 6,
     "metadata": {},
     "output_type": "execute_result"
    }
   ],
   "source": [
    "get_group_label(list(all_files)[0])"
   ]
  },
  {
   "cell_type": "code",
   "execution_count": 7,
   "metadata": {},
   "outputs": [],
   "source": [
    "group_labels = {filename: get_group_label(filename) for filename in all_files}\n",
    "ga_labels = {filename: all_gradings_index[filename, 'GA'] for filename in all_files}"
   ]
  },
  {
   "cell_type": "code",
   "execution_count": 8,
   "metadata": {},
   "outputs": [
    {
     "data": {
      "text/plain": [
       "Counter({'normal': 6385, 'pre-plus': 235, 'ungradable': 564, 'plus': 230})"
      ]
     },
     "execution_count": 8,
     "metadata": {},
     "output_type": "execute_result"
    }
   ],
   "source": [
    "from collections import Counter\n",
    "Counter(group_labels.values())"
   ]
  },
  {
   "cell_type": "code",
   "execution_count": 9,
   "metadata": {},
   "outputs": [
    {
     "data": {
      "text/plain": [
       "Counter({'normal': 6898, 'ungradable': 232, 'plus': 197, 'pre-plus': 87})"
      ]
     },
     "execution_count": 9,
     "metadata": {},
     "output_type": "execute_result"
    }
   ],
   "source": [
    "Counter(ga_labels.values())"
   ]
  },
  {
   "cell_type": "markdown",
   "metadata": {},
   "source": [
    "## Eye laterality"
   ]
  },
  {
   "cell_type": "code",
   "execution_count": 10,
   "metadata": {},
   "outputs": [
    {
     "data": {
      "text/plain": [
       "Counter({('R', 'R'): 2494,\n",
       "         ('L', 'R'): 836,\n",
       "         ('L', 'L'): 3089,\n",
       "         ('?', 'R'): 351,\n",
       "         ('?', 'L'): 279,\n",
       "         ('?', '?'): 351,\n",
       "         ('L', 'L', 'L', 'L'): 4,\n",
       "         ('L', 'L', 'L', 'R'): 3,\n",
       "         ('R', 'R', 'R', 'R'): 3,\n",
       "         ('L', 'R', 'R', 'R'): 1,\n",
       "         ('?', '?', 'R', 'R'): 1,\n",
       "         ('L', 'L', 'R'): 1,\n",
       "         ('R',): 1})"
      ]
     },
     "execution_count": 10,
     "metadata": {},
     "output_type": "execute_result"
    }
   ],
   "source": [
    "import pandas as pd \n",
    "def clean_path(filepath):\n",
    "    path = filepath.split('\\\\')[-1]\n",
    "    return [p for p in (path, path[2:], (path + '.png'), (path[:-1])) if p in all_files][0]\n",
    "\n",
    "def clean_laterality(laterality):\n",
    "    try: \n",
    "        return {\n",
    "            'Right': 'R',\n",
    "            'right': 'R',\n",
    "            'R': 'R',\n",
    "            \n",
    "            'L': 'L',\n",
    "            'Left':'L',\n",
    "            'left': 'L',\n",
    "            'lef': 'L',\n",
    "            'left ': 'L'\n",
    "        }[laterality]\n",
    "    except:\n",
    "        return '?'\n",
    "\n",
    "from collections import defaultdict\n",
    "\n",
    "eye_grading = defaultdict(list)\n",
    "grading_folder = '/media/QNAP/People/GongyuZhang/ROP/data/raw/Grading/gradingonIGC/'\n",
    "for grader in juniors:\n",
    "    orig_xls = '{}{}_ROP_grading.xlsx'.format(grading_folder, grader)\n",
    "    df = pd.read_excel(orig_xls, engine='openpyxl', index_col=False)\n",
    "    \n",
    "    for i, r in df.iterrows():\n",
    "        path = clean_path(r.Filepath)\n",
    "        laterality = clean_laterality(r.Laterality)\n",
    "        eye_grading[path].append(laterality)\n",
    "\n",
    "Counter(tuple(sorted(x)) for x in eye_grading.values())"
   ]
  },
  {
   "cell_type": "code",
   "execution_count": 11,
   "metadata": {},
   "outputs": [],
   "source": [
    "laterality_replace = { \n",
    "    ('R', 'R'): 'R',\n",
    "    ('L', 'R'): '?',\n",
    "    ('L', 'L'): 'L',\n",
    "    ('?', 'R'): 'R',\n",
    "    ('?', 'L'): 'L',\n",
    "    ('?', '?'): '?',\n",
    "    ('L', 'L', 'L', 'L'): 'L',\n",
    "    ('L', 'L', 'L', 'R'): 'L',\n",
    "    ('R', 'R', 'R', 'R'): 'R',\n",
    "    ('L', 'R', 'R', 'R'): 'R',\n",
    "    ('?', '?', 'R', 'R'): 'R',\n",
    "    ('L', 'L', 'R'): 'L',\n",
    "    ('R',): 'R'\n",
    "}"
   ]
  },
  {
   "cell_type": "code",
   "execution_count": 12,
   "metadata": {},
   "outputs": [],
   "source": [
    "laterality_index = {path: laterality_replace[tuple(sorted(x))] for path, x in eye_grading.items()}"
   ]
  },
  {
   "cell_type": "markdown",
   "metadata": {},
   "source": [
    "# Make split"
   ]
  },
  {
   "cell_type": "code",
   "execution_count": 13,
   "metadata": {},
   "outputs": [],
   "source": [
    "reference = group_labels"
   ]
  },
  {
   "cell_type": "code",
   "execution_count": 14,
   "metadata": {},
   "outputs": [],
   "source": [
    "import numpy as np"
   ]
  },
  {
   "cell_type": "code",
   "execution_count": 15,
   "metadata": {},
   "outputs": [],
   "source": [
    "patient_lateralities = defaultdict(list)\n",
    "for k, v in reference.items():\n",
    "    p_id = k.split('.')[0]\n",
    "    patient_lateralities[p_id].append(laterality_index[k])"
   ]
  },
  {
   "cell_type": "code",
   "execution_count": 16,
   "metadata": {},
   "outputs": [],
   "source": [
    "test_set = set()\n",
    "eligible = reference\n",
    "\n",
    "def select_files(criterium, eligible):\n",
    "    \n",
    "    # subset of eligible files \n",
    "    draw_from = sorted([filename for filename, grading in eligible.items()\n",
    "                        if criterium(grading)])\n",
    "    \n",
    "    # random file\n",
    "    filename = np.random.choice(draw_from)\n",
    "    eye = laterality_index[filename]\n",
    "    try:\n",
    "        fellow_eye = {'L': 'R', 'R': 'L'}[eye]\n",
    "    except:\n",
    "        # laterality is unknown\n",
    "        return eligible\n",
    "        \n",
    "    test_set.add(filename)\n",
    "    \n",
    "    p_id = filename.split('.')[0]\n",
    "    # find fellow eye with same referability\n",
    "    draw_from = sorted([filename for filename, grading in eligible.items()\n",
    "                        if criterium(grading)\n",
    "                        and filename.split('.')[0] == p_id\n",
    "                        and laterality_index[filename] == fellow_eye\n",
    "           ])\n",
    "    \n",
    "    # add image of fellow eye if possible\n",
    "    if draw_from:    \n",
    "        filename = np.random.choice(draw_from)\n",
    "        test_set.add(filename)\n",
    "\n",
    "    # exclude all files from the same patient \n",
    "    eligible = {k: v for k, v in eligible.items()\n",
    "                if k.split('.')[0] != p_id}\n",
    "    \n",
    "    return eligible\n",
    "\n",
    "np.random.seed(1)\n",
    "while len(test_set) < 100:\n",
    "     eligible = select_files(lambda grading: grading in ('plus', 'pre-plus'), eligible)\n",
    "        \n",
    "while len(test_set) < 200:\n",
    "    eligible = select_files(lambda grading: grading == 'normal', eligible)"
   ]
  },
  {
   "cell_type": "code",
   "execution_count": 17,
   "metadata": {},
   "outputs": [
    {
     "data": {
      "text/plain": [
       "(200, 112)"
      ]
     },
     "execution_count": 17,
     "metadata": {},
     "output_type": "execute_result"
    }
   ],
   "source": [
    "len(test_set), len({k.split('.')[0] for k in test_set})"
   ]
  },
  {
   "cell_type": "code",
   "execution_count": 18,
   "metadata": {},
   "outputs": [
    {
     "data": {
      "text/plain": [
       "6620"
      ]
     },
     "execution_count": 18,
     "metadata": {},
     "output_type": "execute_result"
    }
   ],
   "source": [
    "len(eligible)"
   ]
  },
  {
   "cell_type": "code",
   "execution_count": 19,
   "metadata": {},
   "outputs": [],
   "source": [
    "test_set_index = {filename: group_labels[filename] for filename in test_set}\n",
    "development = {filename: group_labels[filename] for filename in eligible}\n",
    "excluded = {f for f in reference if f not in test_set and f not in development}"
   ]
  },
  {
   "cell_type": "code",
   "execution_count": 20,
   "metadata": {},
   "outputs": [
    {
     "data": {
      "text/plain": [
       "Counter({'plus': 51, 'normal': 100, 'pre-plus': 49})"
      ]
     },
     "execution_count": 20,
     "metadata": {},
     "output_type": "execute_result"
    }
   ],
   "source": [
    "Counter(test_set_index.values())"
   ]
  },
  {
   "cell_type": "code",
   "execution_count": 21,
   "metadata": {},
   "outputs": [
    {
     "data": {
      "text/plain": [
       "Counter({'normal': 5877, 'pre-plus': 122, 'ungradable': 552, 'plus': 69})"
      ]
     },
     "execution_count": 21,
     "metadata": {},
     "output_type": "execute_result"
    }
   ],
   "source": [
    "Counter(development.values())"
   ]
  },
  {
   "cell_type": "markdown",
   "metadata": {},
   "source": [
    "## Split folds"
   ]
  },
  {
   "cell_type": "code",
   "execution_count": 22,
   "metadata": {},
   "outputs": [],
   "source": [
    "development_patients = {f.split('.')[0] for f in development}\n",
    "n_folds = 5\n",
    "\n",
    "np.random.seed(1)\n",
    "patient_folds = np.array_split(sorted(list(development_patients)), n_folds)\n",
    "patient_fold_index = {p: i for i, ps in enumerate(patient_folds) for p in ps}\n",
    "fold_index = {f: patient_fold_index[f.split('.')[0]] for f in development}"
   ]
  },
  {
   "cell_type": "code",
   "execution_count": 23,
   "metadata": {},
   "outputs": [],
   "source": [
    "final_split = []\n",
    "for f in sorted(all_files):\n",
    "    if f in test_set:\n",
    "        subset = 'test'\n",
    "    elif f in excluded:\n",
    "        subset = 'excluded'\n",
    "    else:\n",
    "        subset = 'fold_{}'.format(fold_index[f])\n",
    "        \n",
    "\n",
    "    graders_labels = tuple(all_gradings_index[f, grader] if (f, grader) in all_gradings_index else '?'\n",
    "                           for grader in all_graders)\n",
    "    final_split.append((f, subset, *graders_labels, group_labels[f]))\n",
    "header = 'file', 'subset', *all_graders, 'group'"
   ]
  },
  {
   "cell_type": "code",
   "execution_count": 27,
   "metadata": {},
   "outputs": [
    {
     "name": "stdout",
     "output_type": "stream",
     "text": [
      "excluded\n",
      "files 594\n",
      "referable files (group) 174\n",
      "referable patients (group) 51\n",
      "referable files (GA) 127\n",
      "referable patients (GA) 36\n",
      "\n",
      "fold_0\n",
      "files 1349\n",
      "referable files (group) 48\n",
      "referable patients (group) 18\n",
      "referable files (GA) 25\n",
      "referable patients (GA) 7\n",
      "\n",
      "fold_1\n",
      "files 1353\n",
      "referable files (group) 42\n",
      "referable patients (group) 18\n",
      "referable files (GA) 16\n",
      "referable patients (GA) 5\n",
      "\n",
      "fold_2\n",
      "files 1313\n",
      "referable files (group) 33\n",
      "referable patients (group) 11\n",
      "referable files (GA) 21\n",
      "referable patients (GA) 5\n",
      "\n",
      "fold_3\n",
      "files 1300\n",
      "referable files (group) 35\n",
      "referable patients (group) 16\n",
      "referable files (GA) 19\n",
      "referable patients (GA) 7\n",
      "\n",
      "fold_4\n",
      "files 1305\n",
      "referable files (group) 33\n",
      "referable patients (group) 13\n",
      "referable files (GA) 19\n",
      "referable patients (GA) 7\n",
      "\n",
      "test\n",
      "files 200\n",
      "referable files (group) 100\n",
      "referable patients (group) 61\n",
      "referable files (GA) 57\n",
      "referable patients (GA) 39\n",
      "\n"
     ]
    }
   ],
   "source": [
    "subsets = {r[1] for r in final_split}\n",
    "for subset in sorted(subsets):\n",
    "    print(subset)\n",
    "    print('files', len([r[0] for r in final_split if r[1] == subset]))\n",
    "    print('referable files (group)', len([r[0] for r in final_split if r[1] == subset and r[-1] in ('plus', 'pre-plus')]))\n",
    "    print('referable patients (group)', len({r[0].split('.')[0] for r in final_split if r[1] == subset and r[-1] in ('plus', 'pre-plus')}))\n",
    "    \n",
    "    print('referable files (GA)', len([r[0] for r in final_split if r[1] == subset and r[-2] in ('plus', 'pre-plus')]))\n",
    "    print('referable patients (GA)', len({r[0].split('.')[0] for r in final_split if r[1] == subset and r[-2] in ('plus', 'pre-plus')}))\n",
    "    print()\n",
    "    "
   ]
  },
  {
   "cell_type": "code",
   "execution_count": 28,
   "metadata": {},
   "outputs": [],
   "source": [
    "with open('data_split.csv', 'w') as f:\n",
    "    csv.writer(f).writerows([header] + final_split)"
   ]
  }
 ],
 "metadata": {
  "kernelspec": {
   "display_name": "Python 3",
   "language": "python",
   "name": "python3"
  },
  "language_info": {
   "codemirror_mode": {
    "name": "ipython",
    "version": 3
   },
   "file_extension": ".py",
   "mimetype": "text/x-python",
   "name": "python",
   "nbconvert_exporter": "python",
   "pygments_lexer": "ipython3",
   "version": "3.6.9"
  }
 },
 "nbformat": 4,
 "nbformat_minor": 4
}
