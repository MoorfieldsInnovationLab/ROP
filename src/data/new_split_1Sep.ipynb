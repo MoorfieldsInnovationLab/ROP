{
 "cells": [
  {
   "cell_type": "code",
   "execution_count": 1,
   "id": "c262b8d5-f829-4d12-bcb5-8319f913b227",
   "metadata": {},
   "outputs": [],
   "source": [
    "import os\n",
    "import glob\n",
    "import pandas as pd\n",
    "from sklearn.model_selection import train_test_split, GroupShuffleSplit, KFold\n",
    "import random\n",
    "import numpy as np"
   ]
  },
  {
   "cell_type": "markdown",
   "id": "ccd3dd5b-cfe1-4a8c-ad04-1def910a423e",
   "metadata": {},
   "source": [
    "# import data"
   ]
  },
  {
   "cell_type": "code",
   "execution_count": 2,
   "id": "556add54-873d-40d4-bd6b-1d5cdefd9da5",
   "metadata": {},
   "outputs": [
    {
     "name": "stdout",
     "output_type": "stream",
     "text": [
      "['03255041-b3a3-4fc2-b449-b4cae007716e.7.png', '0597ab91-77e4-47bd-8e09-a3eb342a6470.31.png', '08ab5d5c-e25e-4701-a5df-c50d512f3fde.23.png', '0bfef26d-7239-4453-a6df-34e75cb69125.2.png', '14a711a2-302e-49f4-b5ca-e4bc0d716839.12.png']\n"
     ]
    }
   ],
   "source": [
    "files = glob.glob('/code/media/QNAP/People/GongyuZhang/ROP/data/raw/image/*')\n",
    "filename_fromglob=[]\n",
    "filename_fromglob_full=[]\n",
    "for f in files:\n",
    "    filename_fromglob.append(os.path.split(f)[1][:36])\n",
    "    filename_fromglob_full.append(os.path.split(f)[1])\n",
    "print(filename_fromglob_full[:5])"
   ]
  },
  {
   "cell_type": "code",
   "execution_count": 3,
   "id": "a55afcba-3da7-4152-b928-7e07e2f75438",
   "metadata": {},
   "outputs": [
    {
     "data": {
      "text/html": [
       "<div>\n",
       "<style scoped>\n",
       "    .dataframe tbody tr th:only-of-type {\n",
       "        vertical-align: middle;\n",
       "    }\n",
       "\n",
       "    .dataframe tbody tr th {\n",
       "        vertical-align: top;\n",
       "    }\n",
       "\n",
       "    .dataframe thead th {\n",
       "        text-align: right;\n",
       "    }\n",
       "</style>\n",
       "<table border=\"1\" class=\"dataframe\">\n",
       "  <thead>\n",
       "    <tr style=\"text-align: right;\">\n",
       "      <th></th>\n",
       "      <th>id</th>\n",
       "      <th>Filepath</th>\n",
       "      <th>CH</th>\n",
       "      <th>JT</th>\n",
       "      <th>KP</th>\n",
       "      <th>SB</th>\n",
       "      <th>GA</th>\n",
       "      <th>group</th>\n",
       "    </tr>\n",
       "  </thead>\n",
       "  <tbody>\n",
       "    <tr>\n",
       "      <th>414</th>\n",
       "      <td>98</td>\n",
       "      <td>115b4818-6213-4bfb-92a7-07f7d7303f53.1.png</td>\n",
       "      <td>NaN</td>\n",
       "      <td>NaN</td>\n",
       "      <td>normal</td>\n",
       "      <td>normal</td>\n",
       "      <td>normal</td>\n",
       "      <td>normal</td>\n",
       "    </tr>\n",
       "    <tr>\n",
       "      <th>415</th>\n",
       "      <td>98</td>\n",
       "      <td>115b4818-6213-4bfb-92a7-07f7d7303f53.14.png</td>\n",
       "      <td>normal</td>\n",
       "      <td>normal</td>\n",
       "      <td>NaN</td>\n",
       "      <td>NaN</td>\n",
       "      <td>normal</td>\n",
       "      <td>normal</td>\n",
       "    </tr>\n",
       "    <tr>\n",
       "      <th>416</th>\n",
       "      <td>98</td>\n",
       "      <td>115b4818-6213-4bfb-92a7-07f7d7303f53.2.png</td>\n",
       "      <td>normal</td>\n",
       "      <td>normal</td>\n",
       "      <td>NaN</td>\n",
       "      <td>NaN</td>\n",
       "      <td>normal</td>\n",
       "      <td>normal</td>\n",
       "    </tr>\n",
       "    <tr>\n",
       "      <th>417</th>\n",
       "      <td>98</td>\n",
       "      <td>115b4818-6213-4bfb-92a7-07f7d7303f53.39.png</td>\n",
       "      <td>normal</td>\n",
       "      <td>normal</td>\n",
       "      <td>NaN</td>\n",
       "      <td>NaN</td>\n",
       "      <td>normal</td>\n",
       "      <td>normal</td>\n",
       "    </tr>\n",
       "    <tr>\n",
       "      <th>7413</th>\n",
       "      <td>98</td>\n",
       "      <td>115b4818-6213-4bfb-92a7-07f7d7303f53.7.png</td>\n",
       "      <td>NaN</td>\n",
       "      <td>NaN</td>\n",
       "      <td>NaN</td>\n",
       "      <td>normal</td>\n",
       "      <td>normal</td>\n",
       "      <td>normal</td>\n",
       "    </tr>\n",
       "  </tbody>\n",
       "</table>\n",
       "</div>"
      ],
      "text/plain": [
       "      id                                     Filepath      CH      JT      KP  \\\n",
       "414   98   115b4818-6213-4bfb-92a7-07f7d7303f53.1.png     NaN     NaN  normal   \n",
       "415   98  115b4818-6213-4bfb-92a7-07f7d7303f53.14.png  normal  normal     NaN   \n",
       "416   98   115b4818-6213-4bfb-92a7-07f7d7303f53.2.png  normal  normal     NaN   \n",
       "417   98  115b4818-6213-4bfb-92a7-07f7d7303f53.39.png  normal  normal     NaN   \n",
       "7413  98   115b4818-6213-4bfb-92a7-07f7d7303f53.7.png     NaN     NaN     NaN   \n",
       "\n",
       "          SB      GA   group  \n",
       "414   normal  normal  normal  \n",
       "415      NaN  normal  normal  \n",
       "416      NaN  normal  normal  \n",
       "417      NaN  normal  normal  \n",
       "7413  normal  normal  normal  "
      ]
     },
     "execution_count": 3,
     "metadata": {},
     "output_type": "execute_result"
    }
   ],
   "source": [
    "df_train_original = pd.read_csv('/code/media/QNAP/People/GongyuZhang/ROP/data/raw/Grading/train_18_April.csv')\n",
    "df_test_original = pd.read_csv('/code/media/QNAP/People/GongyuZhang/ROP/data/raw/Grading/test_18_April.csv')\n",
    "df_entire = pd.concat([df_train_original, df_test_original])\n",
    "# add missing grading\n",
    "df_entire.loc[len(df_entire)]=[98, '115b4818-6213-4bfb-92a7-07f7d7303f53.7.png',np.NaN,np.NaN,np.NaN,'normal','normal','normal']\n",
    "df_entire.loc[df_entire['id'] == 98]"
   ]
  },
  {
   "cell_type": "markdown",
   "id": "6479f28a-6d66-47c9-be2b-c1a8fecb032b",
   "metadata": {},
   "source": [
    "# Creat test set (50normal + 50ungra + 50referable)"
   ]
  },
  {
   "cell_type": "code",
   "execution_count": 4,
   "id": "99446256-43b7-4876-a3f5-34cdecec0c77",
   "metadata": {},
   "outputs": [
    {
     "name": "stdout",
     "output_type": "stream",
     "text": [
      "set()\n",
      "set()\n",
      "set()\n",
      "50\n",
      "50\n",
      "50\n",
      "148\n",
      "7414\n"
     ]
    }
   ],
   "source": [
    "random.seed(88)\n",
    "df_test_cal = df_entire.copy()\n",
    "\n",
    "df_test_refer = df_test_cal.loc[(df_test_cal['group'] == 'plus') | (df_test_cal['group'] == 'preplus')].drop_duplicates(subset=['id']).sample(n=50)\n",
    "df_test_cal = df_test_cal[~df_test_cal.id.isin(df_test_refer.id)]\n",
    "\n",
    "df_test_normal = df_test_cal.loc[(df_test_cal['group'] == 'normal')].drop_duplicates(subset=['id']).sample(n=50)\n",
    "df_test_cal = df_test_cal[~df_test_cal.id.isin(df_test_normal.id)]\n",
    "\n",
    "df_test_ungradable = df_test_cal.loc[(df_test_cal['group'] == 'ungradable')].drop_duplicates(subset=['id']).sample(n=50)\n",
    "\n",
    "print(set(df_test_ungradable.id) & set(df_test_normal.id))\n",
    "print(set(df_test_normal.id) & set(df_test_refer.id))\n",
    "print(set(df_test_ungradable.id) & set(df_test_refer.id))\n",
    "\n",
    "print(len(df_test_ungradable))\n",
    "print(len(df_test_normal))\n",
    "print(len(df_test_refer))\n",
    "id_testset = df_test_refer.id + df_test_ungradable.id + df_test_normal.id\n",
    "df_test = pd.concat([df_test_refer,df_test_normal,df_test_ungradable])\n",
    "df_test_dropped = df_entire[(~df_entire.Filepath.isin(df_test.Filepath)) & (df_entire.id.isin(df_test.id))]\n",
    "df_train_val = df_entire[~df_entire[\"id\"].isin(df_test.id)]\n",
    "print(len(set(id_testset)))\n",
    "print(len(df_train_val) + len(df_test) + len(df_test_dropped))"
   ]
  },
  {
   "cell_type": "markdown",
   "id": "1a3735c7-1942-4d69-9ba4-94690ae7390e",
   "metadata": {},
   "source": [
    "# Creat 5 fold for train-val set"
   ]
  },
  {
   "cell_type": "code",
   "execution_count": 5,
   "id": "70270641-7518-4794-906a-cb97ec02b814",
   "metadata": {},
   "outputs": [
    {
     "name": "stdout",
     "output_type": "stream",
     "text": [
      "set()\n",
      "\n"
     ]
    }
   ],
   "source": [
    "folds=[]\n",
    "ids = df_train_val.id.unique().tolist()\n",
    "id2split = ids\n",
    "\n",
    "for f in range(5):\n",
    "    fold = random.sample(id2split, int(len(ids)/5))\n",
    "    fold.sort()\n",
    "    folds.append(fold)\n",
    "    id2split = [x for x in id2split if x not in fold]\n",
    "\n",
    "print(set(folds[0])&set(folds[1])&set(folds[2])&set(folds[3])&set(folds[4]))\n",
    "print()"
   ]
  },
  {
   "cell_type": "markdown",
   "id": "98a4bd77-1369-444e-a59c-34191019fd2c",
   "metadata": {},
   "source": [
    "# Check numbers in 5 fold train-val"
   ]
  },
  {
   "cell_type": "code",
   "execution_count": 6,
   "id": "b859fdd5-338d-4a9b-82ed-575df9d2699e",
   "metadata": {},
   "outputs": [
    {
     "name": "stdout",
     "output_type": "stream",
     "text": [
      "----------------\n",
      "test set\n",
      "\n",
      "num=150\n",
      "ungradable    50\n",
      "normal        50\n",
      "preplus       36\n",
      "plus          14\n",
      "Name: group, dtype: int64\n",
      "ungradable    0.333333\n",
      "normal        0.333333\n",
      "preplus       0.240000\n",
      "plus          0.093333\n",
      "Name: group, dtype: float64\n",
      "----------------\n",
      "five folds\n",
      "\n",
      "num=1358\n",
      "normal        1235\n",
      "ungradable      64\n",
      "preplus         37\n",
      "plus            22\n",
      "Name: group, dtype: int64\n",
      "normal        0.909426\n",
      "ungradable    0.047128\n",
      "preplus       0.027246\n",
      "plus          0.016200\n",
      "Name: group, dtype: float64\n",
      "\n",
      "num=1358\n",
      "normal        1235\n",
      "ungradable      64\n",
      "preplus         37\n",
      "plus            22\n",
      "Name: group, dtype: int64\n",
      "normal        0.909426\n",
      "ungradable    0.047128\n",
      "preplus       0.027246\n",
      "plus          0.016200\n",
      "Name: group, dtype: float64\n",
      "\n",
      "num=1358\n",
      "normal        1235\n",
      "ungradable      64\n",
      "preplus         37\n",
      "plus            22\n",
      "Name: group, dtype: int64\n",
      "normal        0.909426\n",
      "ungradable    0.047128\n",
      "preplus       0.027246\n",
      "plus          0.016200\n",
      "Name: group, dtype: float64\n",
      "\n",
      "num=1358\n",
      "normal        1235\n",
      "ungradable      64\n",
      "preplus         37\n",
      "plus            22\n",
      "Name: group, dtype: int64\n",
      "normal        0.909426\n",
      "ungradable    0.047128\n",
      "preplus       0.027246\n",
      "plus          0.016200\n",
      "Name: group, dtype: float64\n",
      "\n",
      "num=1358\n",
      "normal        1235\n",
      "ungradable      64\n",
      "preplus         37\n",
      "plus            22\n",
      "Name: group, dtype: int64\n",
      "normal        0.909426\n",
      "ungradable    0.047128\n",
      "preplus       0.027246\n",
      "plus          0.016200\n",
      "Name: group, dtype: float64\n"
     ]
    },
    {
     "name": "stderr",
     "output_type": "stream",
     "text": [
      "/usr/local/lib/python3.6/dist-packages/ipykernel_launcher.py:8: SettingWithCopyWarning: \n",
      "A value is trying to be set on a copy of a slice from a DataFrame.\n",
      "Try using .loc[row_indexer,col_indexer] = value instead\n",
      "\n",
      "See the caveats in the documentation: https://pandas.pydata.org/pandas-docs/stable/user_guide/indexing.html#returning-a-view-versus-a-copy\n",
      "  \n",
      "/usr/local/lib/python3.6/dist-packages/ipykernel_launcher.py:11: SettingWithCopyWarning: \n",
      "A value is trying to be set on a copy of a slice from a DataFrame.\n",
      "Try using .loc[row_indexer,col_indexer] = value instead\n",
      "\n",
      "See the caveats in the documentation: https://pandas.pydata.org/pandas-docs/stable/user_guide/indexing.html#returning-a-view-versus-a-copy\n",
      "  # This is added back by InteractiveShellApp.init_path()\n",
      "/usr/local/lib/python3.6/dist-packages/ipykernel_launcher.py:13: SettingWithCopyWarning: \n",
      "A value is trying to be set on a copy of a slice from a DataFrame.\n",
      "Try using .loc[row_indexer,col_indexer] = value instead\n",
      "\n",
      "See the caveats in the documentation: https://pandas.pydata.org/pandas-docs/stable/user_guide/indexing.html#returning-a-view-versus-a-copy\n",
      "  del sys.path[0]\n",
      "/usr/local/lib/python3.6/dist-packages/ipykernel_launcher.py:15: SettingWithCopyWarning: \n",
      "A value is trying to be set on a copy of a slice from a DataFrame.\n",
      "Try using .loc[row_indexer,col_indexer] = value instead\n",
      "\n",
      "See the caveats in the documentation: https://pandas.pydata.org/pandas-docs/stable/user_guide/indexing.html#returning-a-view-versus-a-copy\n",
      "  from ipykernel import kernelapp as app\n",
      "/usr/local/lib/python3.6/dist-packages/ipykernel_launcher.py:17: SettingWithCopyWarning: \n",
      "A value is trying to be set on a copy of a slice from a DataFrame.\n",
      "Try using .loc[row_indexer,col_indexer] = value instead\n",
      "\n",
      "See the caveats in the documentation: https://pandas.pydata.org/pandas-docs/stable/user_guide/indexing.html#returning-a-view-versus-a-copy\n",
      "/usr/local/lib/python3.6/dist-packages/ipykernel_launcher.py:19: SettingWithCopyWarning: \n",
      "A value is trying to be set on a copy of a slice from a DataFrame.\n",
      "Try using .loc[row_indexer,col_indexer] = value instead\n",
      "\n",
      "See the caveats in the documentation: https://pandas.pydata.org/pandas-docs/stable/user_guide/indexing.html#returning-a-view-versus-a-copy\n"
     ]
    }
   ],
   "source": [
    "def show_class_stat(df):\n",
    "    print('\\nnum={}'.format(len(df)))\n",
    "    print(df.loc[:,\"group\"].value_counts(normalize=False))\n",
    "    print(\"{}\".format(df.loc[:,\"group\"].value_counts(normalize=True)))\n",
    "\n",
    "    \n",
    "df_test['split'] = 'test'\n",
    "df_test_dropped['split'] = 'test_dropped'\n",
    "\n",
    "df_f1 = df_entire.loc[df_entire.id.isin(folds[0]),]\n",
    "df_f1['split'] = 'f1'\n",
    "df_f2 = df_entire.loc[df_entire.id.isin(folds[1]),]\n",
    "df_f2['split'] = 'f2'\n",
    "df_f3 = df_entire.loc[df_entire.id.isin(folds[2]),]\n",
    "df_f3['split'] = 'f3'\n",
    "df_f4 = df_entire.loc[df_entire.id.isin(folds[3]),]\n",
    "df_f4['split'] = 'f4'\n",
    "df_f5 = df_entire.loc[df_entire.id.isin(folds[4]),]\n",
    "df_f5['split'] = 'f5'\n",
    "\n",
    "print('----------------')\n",
    "print('test set')\n",
    "show_class_stat(df_test)\n",
    "print('----------------')\n",
    "print('five folds')\n",
    "\n",
    "for df in [df_f1,df_f1,df_f1,df_f1,df_f1]:\n",
    "    show_class_stat(df)"
   ]
  },
  {
   "cell_type": "code",
   "execution_count": 7,
   "id": "bb3cd46e-fead-47b6-81e4-654d28324837",
   "metadata": {},
   "outputs": [],
   "source": [
    "df_splited = pd.concat([df_test,df_test_dropped,df_f1,df_f2,df_f3,df_f4,df_f5])\n",
    "df_splited.reset_index(drop=True, inplace=True)"
   ]
  },
  {
   "cell_type": "code",
   "execution_count": 8,
   "id": "c0761380-9586-4f18-9a84-10790fd3ba9b",
   "metadata": {},
   "outputs": [
    {
     "data": {
      "text/plain": [
       "[]"
      ]
     },
     "execution_count": 8,
     "metadata": {},
     "output_type": "execute_result"
    }
   ],
   "source": [
    "# check missing id\n",
    "[x for x in range(max(set(df_splited.id.unique()))) if x not in df_splited.id.unique()]"
   ]
  },
  {
   "cell_type": "code",
   "execution_count": 9,
   "id": "ef003514-697a-48f9-afc8-bc585fc0e1dd",
   "metadata": {},
   "outputs": [],
   "source": [
    "df_splited.to_csv('splitted.csv')"
   ]
  },
  {
   "cell_type": "code",
   "execution_count": 10,
   "id": "89ba8506-8b72-4dee-9cd5-658333fd707c",
   "metadata": {},
   "outputs": [],
   "source": [
    "df = pd.read_csv('splitted.csv')"
   ]
  },
  {
   "cell_type": "code",
   "execution_count": 11,
   "id": "8af1148b-8605-4873-83a4-d4d1a28642c2",
   "metadata": {},
   "outputs": [
    {
     "name": "stdout",
     "output_type": "stream",
     "text": [
      "50\n",
      "50\n",
      "50\n"
     ]
    }
   ],
   "source": [
    "print(len(set(df[(df.split == \"test\") & ((df.group == \"preplus\") | (df.group == \"plus\"))].id)))\n",
    "print(len(set(df[(df.split == \"test\") & ((df.group == \"normal\"))].id)))\n",
    "print(len(set(df[(df.split == \"test\") & ((df.group == \"ungradable\"))].id)))"
   ]
  },
  {
   "cell_type": "code",
   "execution_count": null,
   "id": "02cd884d-46aa-4dda-ad8b-d1ba0df812a9",
   "metadata": {},
   "outputs": [],
   "source": []
  }
 ],
 "metadata": {
  "kernelspec": {
   "display_name": "Python 3",
   "language": "python",
   "name": "python3"
  },
  "language_info": {
   "codemirror_mode": {
    "name": "ipython",
    "version": 3
   },
   "file_extension": ".py",
   "mimetype": "text/x-python",
   "name": "python",
   "nbconvert_exporter": "python",
   "pygments_lexer": "ipython3",
   "version": "3.6.9"
  }
 },
 "nbformat": 4,
 "nbformat_minor": 5
}
