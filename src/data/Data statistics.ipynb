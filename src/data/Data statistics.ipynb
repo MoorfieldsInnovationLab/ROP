{
 "cells": [
  {
   "cell_type": "code",
   "execution_count": 1,
   "metadata": {},
   "outputs": [],
   "source": [
    "import csv\n",
    "with open('data_split.csv', 'r') as f:\n",
    "    d = list(csv.reader(f))\n",
    "    header = d[0]\n",
    "    data = d[1:]"
   ]
  },
  {
   "cell_type": "code",
   "execution_count": 2,
   "metadata": {},
   "outputs": [
    {
     "data": {
      "text/plain": [
       "'file, subset, CH, JT, KP, SB, GA, group'"
      ]
     },
     "execution_count": 2,
     "metadata": {},
     "output_type": "execute_result"
    }
   ],
   "source": [
    "', '.join(header)"
   ]
  },
  {
   "cell_type": "code",
   "execution_count": 3,
   "metadata": {},
   "outputs": [],
   "source": [
    "data = [(file.split('.')[0], file, subset, CH, JT, KP, SB, GA, group) for file, subset, CH, JT, KP, SB, GA, group in data]"
   ]
  },
  {
   "cell_type": "code",
   "execution_count": 4,
   "metadata": {},
   "outputs": [
    {
     "data": {
      "text/plain": [
       "['excluded', 'fold_0', 'fold_1', 'fold_2', 'fold_3', 'fold_4', 'test']"
      ]
     },
     "execution_count": 4,
     "metadata": {},
     "output_type": "execute_result"
    }
   ],
   "source": [
    "sorted({subset for p_id, file, subset, CH, JT, KP, SB, GA, group in data})"
   ]
  },
  {
   "cell_type": "code",
   "execution_count": 5,
   "metadata": {},
   "outputs": [],
   "source": [
    "subsets = 'excluded', 'fold_0', 'fold_1', 'fold_2', 'fold_3', 'fold_4', 'test'\n",
    "subset_items = {subset: [row for row in data if row[2] == subset] for subset in subsets}"
   ]
  },
  {
   "cell_type": "code",
   "execution_count": 6,
   "metadata": {},
   "outputs": [
    {
     "name": "stdout",
     "output_type": "stream",
     "text": [
      "intersect p_ids: 0 excluded fold_0\n",
      "intersect p_ids: 0 excluded fold_1\n",
      "intersect p_ids: 0 excluded fold_2\n",
      "intersect p_ids: 0 excluded fold_3\n",
      "intersect p_ids: 0 excluded fold_4\n",
      "intersect p_ids: 111 excluded test\n",
      "intersect p_ids: 0 fold_0 fold_1\n",
      "intersect p_ids: 0 fold_0 fold_2\n",
      "intersect p_ids: 0 fold_0 fold_3\n",
      "intersect p_ids: 0 fold_0 fold_4\n",
      "intersect p_ids: 0 fold_0 test\n",
      "intersect p_ids: 0 fold_1 fold_2\n",
      "intersect p_ids: 0 fold_1 fold_3\n",
      "intersect p_ids: 0 fold_1 fold_4\n",
      "intersect p_ids: 0 fold_1 test\n",
      "intersect p_ids: 0 fold_2 fold_3\n",
      "intersect p_ids: 0 fold_2 fold_4\n",
      "intersect p_ids: 0 fold_2 test\n",
      "intersect p_ids: 0 fold_3 fold_4\n",
      "intersect p_ids: 0 fold_3 test\n",
      "intersect p_ids: 0 fold_4 test\n"
     ]
    }
   ],
   "source": [
    "from itertools import combinations\n",
    "for s0, s1 in combinations(subsets, 2):\n",
    "    s0_pids = {p_id for p_id, file, subset, CH, JT, KP, SB, GA, group in subset_items[s0]}\n",
    "    s1_pids = {p_id for p_id, file, subset, CH, JT, KP, SB, GA, group in subset_items[s1]}\n",
    "    print('intersect p_ids:', len(s0_pids.intersection(s1_pids)), s0, s1)"
   ]
  },
  {
   "cell_type": "code",
   "execution_count": 7,
   "metadata": {},
   "outputs": [],
   "source": [
    "from collections import Counter"
   ]
  },
  {
   "cell_type": "code",
   "execution_count": 8,
   "metadata": {},
   "outputs": [
    {
     "name": "stdout",
     "output_type": "stream",
     "text": [
      "excluded\n",
      "unique images 594\n",
      "unique p_ids 111\n",
      "                   GA    group\n",
      "ungradable          2       12\n",
      "normal            465      408\n",
      "pre-plus           34       64\n",
      "plus               93      110\n",
      "\n",
      "------------------------------------------------------------\n",
      "fold_0\n",
      "unique images 1349\n",
      "unique p_ids 252\n",
      "                   GA    group\n",
      "ungradable         32      146\n",
      "normal           1292     1155\n",
      "pre-plus            4       25\n",
      "plus               21       23\n",
      "\n",
      "------------------------------------------------------------\n",
      "fold_1\n",
      "unique images 1353\n",
      "unique p_ids 252\n",
      "                   GA    group\n",
      "ungradable         56      135\n",
      "normal           1281     1176\n",
      "pre-plus           10       35\n",
      "plus                6        7\n",
      "\n",
      "------------------------------------------------------------\n",
      "fold_2\n",
      "unique images 1313\n",
      "unique p_ids 252\n",
      "                   GA    group\n",
      "ungradable         58      104\n",
      "normal           1234     1176\n",
      "pre-plus            0       13\n",
      "plus               21       20\n",
      "\n",
      "------------------------------------------------------------\n",
      "fold_3\n",
      "unique images 1300\n",
      "unique p_ids 251\n",
      "                   GA    group\n",
      "ungradable         43       71\n",
      "normal           1238     1194\n",
      "pre-plus            8       21\n",
      "plus               11       14\n",
      "\n",
      "------------------------------------------------------------\n",
      "fold_4\n",
      "unique images 1305\n",
      "unique p_ids 251\n",
      "                   GA    group\n",
      "ungradable         41       96\n",
      "normal           1245     1176\n",
      "pre-plus           13       28\n",
      "plus                6        5\n",
      "\n",
      "------------------------------------------------------------\n",
      "test\n",
      "unique images 200\n",
      "unique p_ids 112\n",
      "                   GA    group\n",
      "ungradable          0        0\n",
      "normal            143      100\n",
      "pre-plus           18       49\n",
      "plus               39       51\n",
      "\n",
      "------------------------------------------------------------\n"
     ]
    }
   ],
   "source": [
    "for subset, items in subset_items.items():\n",
    "    \n",
    "    ga_counts = Counter([GA for p_id, file, subset, CH, JT, KP, SB, GA, group in items])\n",
    "    group_counts = Counter([group for p_id, file, subset, CH, JT, KP, SB, GA, group in items])\n",
    "    \n",
    "    print(subset)\n",
    "    p_ids = {p_id for p_id, file, subset, CH, JT, KP, SB, GA, group in items}\n",
    "    print('unique images', len(items))\n",
    "    print('unique p_ids', len(p_ids))\n",
    "    \n",
    "    print('{:12s} {:>8s} {:>8s}'.format('', 'GA', 'group'))\n",
    "    for k in ('ungradable', 'normal', 'pre-plus', 'plus'):\n",
    "        print('{:12s} {:8d} {:8d}'.format(k, ga_counts[k], group_counts[k]))\n",
    "\n",
    "    print()\n",
    "    \n",
    "    print('-'*60)\n",
    "    \n",
    "    "
   ]
  },
  {
   "cell_type": "code",
   "execution_count": 9,
   "metadata": {},
   "outputs": [],
   "source": [
    "import os\n",
    "images = set(os.listdir('/media/QNAP/People/GongyuZhang/ROP/data/raw/image/'))"
   ]
  },
  {
   "cell_type": "code",
   "execution_count": 10,
   "metadata": {},
   "outputs": [
    {
     "data": {
      "text/plain": [
       "True"
      ]
     },
     "execution_count": 10,
     "metadata": {},
     "output_type": "execute_result"
    }
   ],
   "source": [
    "all(file in images for p_id, file, subset, CH, JT, KP, SB, GA, group in data)"
   ]
  },
  {
   "cell_type": "code",
   "execution_count": null,
   "metadata": {},
   "outputs": [],
   "source": []
  }
 ],
 "metadata": {
  "kernelspec": {
   "display_name": "Python 3",
   "language": "python",
   "name": "python3"
  },
  "language_info": {
   "codemirror_mode": {
    "name": "ipython",
    "version": 3
   },
   "file_extension": ".py",
   "mimetype": "text/x-python",
   "name": "python",
   "nbconvert_exporter": "python",
   "pygments_lexer": "ipython3",
   "version": "3.6.9"
  }
 },
 "nbformat": 4,
 "nbformat_minor": 4
}
