{
 "cells": [
  {
   "cell_type": "code",
   "execution_count": 1,
   "metadata": {},
   "outputs": [],
   "source": [
    "import os\n",
    "import csv\n",
    "import pandas as pd\n",
    "from collections import Counter"
   ]
  },
  {
   "cell_type": "code",
   "execution_count": 2,
   "metadata": {},
   "outputs": [
    {
     "name": "stdout",
     "output_type": "stream",
     "text": [
      "\u001b[0m\u001b[01;34mROP\u001b[0m/  \u001b[01;34mROP-ReadingArchive\u001b[0m/  \u001b[01;32mreadme.txt\u001b[0m*\n"
     ]
    }
   ],
   "source": [
    "ls /media/QNAP/People/BartLiefers/ROP/220118/"
   ]
  },
  {
   "cell_type": "code",
   "execution_count": 3,
   "metadata": {},
   "outputs": [
    {
     "name": "stdout",
     "output_type": "stream",
     "text": [
      " \u001b[0m\u001b[01;34mGrading\u001b[0m/  \u001b[01;34m'Images to label'\u001b[0m/   \u001b[01;34m'New images'\u001b[0m/                   \u001b[01;34mext_val_rop\u001b[0m/\n",
      " \u001b[01;34mImages\u001b[0m/   \u001b[01;34m'Independent Test'\u001b[0m/  \u001b[01;34m'Study images - do not edit'\u001b[0m/\n"
     ]
    }
   ],
   "source": [
    "ls /media/QNAP/People/BartLiefers/ROP/220118/ROP/"
   ]
  },
  {
   "cell_type": "code",
   "execution_count": 4,
   "metadata": {},
   "outputs": [
    {
     "name": "stdout",
     "output_type": "stream",
     "text": [
      "\u001b[0m\u001b[01;32mCH_ROP_grading.xlsx\u001b[0m*  \u001b[01;32mKP_ROP_grading.xlsx\u001b[0m*     \u001b[01;32mrop_cleaned_master.csv\u001b[0m*\n",
      "\u001b[01;34mGA\u001b[0m/                   \u001b[01;32mSB_ROP_grading.xlsx\u001b[0m*     \u001b[01;32mrop_grading_master.xlsx\u001b[0m*\n",
      "\u001b[01;32mJT_ROP_grading.xlsx\u001b[0m*  \u001b[01;32mcollated_gradings.xlsx\u001b[0m*\n"
     ]
    }
   ],
   "source": [
    "ls /media/QNAP/People/BartLiefers/ROP/220118/ROP/Grading/"
   ]
  },
  {
   "cell_type": "code",
   "execution_count": 5,
   "metadata": {},
   "outputs": [
    {
     "name": "stdout",
     "output_type": "stream",
     "text": [
      "\u001b[0m\u001b[01;32mCK_new_ROP_grading.csv\u001b[0m*  \u001b[01;34mNormal\u001b[0m/  \u001b[01;34mPlus\u001b[0m/  \u001b[01;34mPre-Plus\u001b[0m/  \u001b[01;34mUngradable\u001b[0m/\n"
     ]
    }
   ],
   "source": [
    "ls /media/QNAP/People/BartLiefers/ROP/220118/ROP-ReadingArchive/complete/CK/"
   ]
  },
  {
   "cell_type": "code",
   "execution_count": 6,
   "metadata": {},
   "outputs": [],
   "source": [
    "grading_folder = '/media/QNAP/People/BartLiefers/ROP/220118/ROP/Grading/'\n",
    "data_folder = '/media/QNAP/People/BartLiefers/ROP/220118/ROP/Images/Media'\n",
    "images = set([fn for fn in os.listdir(data_folder) if fn.endswith('.png')])"
   ]
  },
  {
   "cell_type": "code",
   "execution_count": 7,
   "metadata": {},
   "outputs": [
    {
     "name": "stdout",
     "output_type": "stream",
     "text": [
      "found duplicate:\n",
      "previous grading, new grading: normal normal\n",
      "found duplicate:\n",
      "previous grading, new grading: normal normal\n",
      "found duplicate:\n",
      "previous grading, new grading: ungradable ungradable\n",
      "found duplicate:\n",
      "previous grading, new grading: normal normal\n",
      "found duplicate:\n",
      "previous grading, new grading: normal normal\n",
      "found duplicate:\n",
      "previous grading, new grading: normal normal\n",
      "found duplicate:\n",
      "previous grading, new grading: pre-plus normal\n",
      "found duplicate:\n",
      "previous grading, new grading: ungradable normal\n",
      "found duplicate:\n",
      "previous grading, new grading: pre-plus normal\n"
     ]
    }
   ],
   "source": [
    "junior_graders = 'CH', 'JT', 'SB' # not KP (replaced with CK)\n",
    "junior_labels = {}\n",
    "for g in junior_graders:\n",
    "    orig_xls = '{}{}_ROP_grading.xlsx'.format(grading_folder, g)\n",
    "    df = pd.read_excel(orig_xls, engine='openpyxl', index_col=False)\n",
    "    junior_labels[g] = df\n",
    "    \n",
    "    \n",
    "# replace variants of spelling to make labels consistent\n",
    "replace = {\n",
    "    'normal': 'normal',\n",
    "    'Normal': 'normal',\n",
    "    'N': 'normal',\n",
    "    \n",
    "    \n",
    "    'ungradableu': 'ungradable',\n",
    "    'Ungradable': 'ungradable',\n",
    "    'Ungradeable': 'ungradable',\n",
    "    'U': 'ungradable',\n",
    "    'ungradable': 'ungradable',\n",
    "    \n",
    "    'plus': 'plus',\n",
    "    'PP': 'pre-plus',\n",
    "    'Pre-Plus': 'pre-plus',\n",
    "    'PrePlus': 'pre-plus',\n",
    "    'Preplus': 'pre-plus',\n",
    "    \n",
    "    'pre-plus': 'pre-plus',\n",
    "    'P': 'plus',\n",
    "    'Plus': 'plus',\n",
    "    'PLUS': 'plus',\n",
    "}\n",
    "\n",
    "all_data = {}\n",
    "\n",
    "for grader in junior_graders:\n",
    "    data = [(row.Filepath.split('\\\\')[-1], row.Grade) for i, row in junior_labels[grader].iterrows()]\n",
    "\n",
    "    for path, g in data:\n",
    "        # get consistent label\n",
    "        grading = replace[g] if g in replace else g   \n",
    "        if grading not in ('normal', 'ungradable', 'plus', 'pre-plus'):\n",
    "            print('unknown label', path, g)\n",
    "            continue\n",
    "        \n",
    "        # clean path (should match with images on disk)\n",
    "        path = [p for p in (path, path[2:], (path + '.png'), (path[:-1])) if p in images][0]\n",
    "        \n",
    "        # unique key\n",
    "        entry = path, grader\n",
    "        if entry in all_data:\n",
    "            print('found duplicate:')\n",
    "            print('previous grading, new grading:', all_data[entry], grading)\n",
    "        \n",
    "        all_data[entry] = grading"
   ]
  },
  {
   "cell_type": "code",
   "execution_count": 8,
   "metadata": {},
   "outputs": [],
   "source": [
    "# ADD test set grading\n",
    "for grader in junior_graders:\n",
    "    g_folder = '/media/QNAP/People/BartLiefers/ROP/220118/ROP/Independent Test/{}'.format(grader)\n",
    "    for folder in 'Normal', 'Plus', 'Pre-Plus', 'Ungradable':\n",
    "        try:\n",
    "            for file in os.listdir('{}/{}'.format(g_folder, folder)):\n",
    "                if file in images:\n",
    "                    all_data[file, grader] = replace[folder]\n",
    "        except:\n",
    "            continue"
   ]
  },
  {
   "cell_type": "markdown",
   "metadata": {},
   "source": [
    "## ADD CK"
   ]
  },
  {
   "cell_type": "code",
   "execution_count": 9,
   "metadata": {},
   "outputs": [],
   "source": [
    "ck_folders = (\n",
    "    '/media/QNAP/People/BartLiefers/ROP/220118/ROP-ReadingArchive/complete/CK',\n",
    "    '/media/QNAP/People/BartLiefers/ROP/220118/ROP-ReadingArchive/CK_test'\n",
    ")\n",
    "for ck_folder in ck_folders:\n",
    "    for folder in 'Normal', 'Plus', 'Pre-Plus', 'Ungradable':\n",
    "        try:\n",
    "            for file in os.listdir('{}/{}'.format(ck_folder, folder)):\n",
    "                if file in images:\n",
    "                    all_data[file, 'CK'] = replace[folder]\n",
    "        except:\n",
    "            continue"
   ]
  },
  {
   "cell_type": "code",
   "execution_count": 10,
   "metadata": {},
   "outputs": [
    {
     "data": {
      "text/plain": [
       "Counter({'CH': 3811, 'JT': 3811, 'SB': 3807, 'CK': 3805})"
      ]
     },
     "execution_count": 10,
     "metadata": {},
     "output_type": "execute_result"
    }
   ],
   "source": [
    "Counter([g for (f, g), grading in all_data.items()])"
   ]
  },
  {
   "cell_type": "code",
   "execution_count": 11,
   "metadata": {},
   "outputs": [
    {
     "data": {
      "text/plain": [
       "7414"
      ]
     },
     "execution_count": 11,
     "metadata": {},
     "output_type": "execute_result"
    }
   ],
   "source": [
    "files = set(f for (f, g), grading in all_data.items())\n",
    "len(files)"
   ]
  },
  {
   "cell_type": "code",
   "execution_count": 12,
   "metadata": {},
   "outputs": [
    {
     "data": {
      "text/plain": [
       "{'CK': 3805, 'CH': 3811, 'JT': 3811, 'SB': 3807}"
      ]
     },
     "execution_count": 12,
     "metadata": {},
     "output_type": "execute_result"
    }
   ],
   "source": [
    "junior_graders = 'CK', 'CH', 'JT', 'SB'\n",
    "junior_graded = {\n",
    "    grader: set(f for f in files if (f, grader) in all_data)\n",
    "    for grader in junior_graders\n",
    "}\n",
    "{k: len(v) for k, v in junior_graded.items()}"
   ]
  },
  {
   "cell_type": "code",
   "execution_count": 13,
   "metadata": {},
   "outputs": [],
   "source": [
    "junior_agreement = {\n",
    "    file: {\n",
    "        grader: all_data[file, grader] for grader in junior_graders\n",
    "        if (file, grader) in all_data\n",
    "          }\n",
    "    for file in files\n",
    "}"
   ]
  },
  {
   "cell_type": "markdown",
   "metadata": {},
   "source": [
    "## GA"
   ]
  },
  {
   "cell_type": "markdown",
   "metadata": {},
   "source": [
    "Original files\n",
    "\n",
    "```python\n",
    "ga_orig_file = '/media/QNAP/People/BartLiefers/ROP/220118/ROP/Grading/GA/gagrading1.csv'\n",
    "with open(ga_orig_file, 'r') as f:\n",
    "    ga_grading = list(csv.reader(f))\n",
    "\n",
    "for row in ga_grading[1:]:\n",
    "    file  = row[0] if row[0] in images else row[0][2:]\n",
    "    all_data[file, 'GA'] = replace[row[1]]\n",
    "```"
   ]
  },
  {
   "cell_type": "code",
   "execution_count": 14,
   "metadata": {},
   "outputs": [],
   "source": [
    "ga_folders = (\n",
    "    #'/media/QNAP/People/BartLiefers/ROP/220118/ROP/Grading/GA', #ignore?\n",
    "    '/media/QNAP/People/BartLiefers/ROP/220118/ROP-ReadingArchive/Ms Adams', # CH - JT\n",
    "    '/media/QNAP/People/BartLiefers/ROP/220118/ROP-ReadingArchive/complete/Ms Adams_cksb_dis' # CK - SB\n",
    ")\n",
    "for ga_folder in ga_folders:\n",
    "    for folder in ('Normal', 'Plus', 'Pre-Plus', 'Pre-plus',\n",
    "                   'Ungradable', 'Ungradeable', 'normal', 'plus', 'pre-plus', 'ungradable'):\n",
    "    \n",
    "        try:\n",
    "            folder_content = os.listdir('{}/{}'.format(ga_folder, folder))\n",
    "        except:\n",
    "            continue\n",
    "        for file in folder_content:\n",
    "            if file in images:\n",
    "                all_data[file, 'GA'] = replace[folder]\n",
    "        "
   ]
  },
  {
   "cell_type": "code",
   "execution_count": 15,
   "metadata": {},
   "outputs": [
    {
     "data": {
      "text/plain": [
       "Counter({'normal': 2094, 'plus': 175, 'pre-plus': 234, 'ungradable': 2})"
      ]
     },
     "execution_count": 15,
     "metadata": {},
     "output_type": "execute_result"
    }
   ],
   "source": [
    "Counter([all_data[file, 'GA'] for file in files if (file, 'GA') in all_data])"
   ]
  },
  {
   "cell_type": "code",
   "execution_count": 22,
   "metadata": {},
   "outputs": [],
   "source": [
    "def get_grade(file):\n",
    "    \n",
    "    if len(junior_agreement[file].values()) == 1:\n",
    "        print(file, junior_agreement[file], all_data[file, 'GA'])\n",
    "        \n",
    "    junior_labels = set(junior_agreement[file].values())\n",
    "    if len(junior_labels) == 1:\n",
    "        # juniors agree\n",
    "        return list(junior_labels)[0]\n",
    "    else:\n",
    "        # juniors disagree\n",
    "        try:\n",
    "            return all_data[file, 'GA']\n",
    "        except:\n",
    "            print(file, junior_agreement[file])\n",
    "            return None"
   ]
  },
  {
   "cell_type": "code",
   "execution_count": 25,
   "metadata": {},
   "outputs": [
    {
     "name": "stdout",
     "output_type": "stream",
     "text": [
      "4096abc4-d2aa-45e9-b266-9a2e966a74fd.14.png {'SB': 'normal'} normal\n",
      "115b4818-6213-4bfb-92a7-07f7d7303f53.7.png {'SB': 'normal'} normal\n"
     ]
    }
   ],
   "source": [
    "group_labels = {file: get_grade(file) for file in files}"
   ]
  },
  {
   "cell_type": "code",
   "execution_count": 27,
   "metadata": {},
   "outputs": [
    {
     "data": {
      "text/plain": [
       "Counter({'normal': 6220, 'plus': 345, 'ungradable': 487, 'pre-plus': 362})"
      ]
     },
     "execution_count": 27,
     "metadata": {},
     "output_type": "execute_result"
    }
   ],
   "source": [
    "Counter([g for f, g in group_labels.items()])"
   ]
  },
  {
   "cell_type": "code",
   "execution_count": 28,
   "metadata": {},
   "outputs": [],
   "source": [
    "with open('data_split.csv', 'r') as f:\n",
    "    reader = csv.reader(f)\n",
    "    header = next(reader)\n",
    "    data = list(reader)"
   ]
  },
  {
   "cell_type": "code",
   "execution_count": 33,
   "metadata": {},
   "outputs": [
    {
     "data": {
      "text/plain": [
       "['file', 'subset', 'CH', 'JT', 'KP', 'SB', 'GA', 'group']"
      ]
     },
     "execution_count": 33,
     "metadata": {},
     "output_type": "execute_result"
    }
   ],
   "source": [
    "header"
   ]
  },
  {
   "cell_type": "code",
   "execution_count": 34,
   "metadata": {},
   "outputs": [],
   "source": [
    "new_data_split = []\n",
    "for file, subset, CH, JT, KP, SB, GA, group in data:\n",
    "    row = [file, subset]\n",
    "    for grader in 'CH', 'JT', 'CK', 'SB', 'GA':\n",
    "        row.append(all_data[file, grader] if (file, grader) in all_data else '?')\n",
    "    row.append(group_labels[file])\n",
    "    new_data_split.append(row)    \n",
    "new_header = 'file', 'subset', 'CH', 'JT', 'CK', 'SB', 'GA', 'group'"
   ]
  },
  {
   "cell_type": "code",
   "execution_count": 35,
   "metadata": {},
   "outputs": [
    {
     "data": {
      "text/plain": [
       "['001b3dae-9398-45c3-b271-aae45e7b07df.1.png',\n",
       " 'fold_0',\n",
       " '?',\n",
       " '?',\n",
       " 'normal',\n",
       " 'normal',\n",
       " 'normal',\n",
       " 'normal']"
      ]
     },
     "execution_count": 35,
     "metadata": {},
     "output_type": "execute_result"
    }
   ],
   "source": [
    "data[0]"
   ]
  },
  {
   "cell_type": "code",
   "execution_count": 36,
   "metadata": {},
   "outputs": [
    {
     "data": {
      "text/plain": [
       "['001b3dae-9398-45c3-b271-aae45e7b07df.1.png',\n",
       " 'fold_0',\n",
       " '?',\n",
       " '?',\n",
       " 'normal',\n",
       " 'normal',\n",
       " '?',\n",
       " 'normal']"
      ]
     },
     "execution_count": 36,
     "metadata": {},
     "output_type": "execute_result"
    }
   ],
   "source": [
    "new_data_split[0]"
   ]
  },
  {
   "cell_type": "code",
   "execution_count": 39,
   "metadata": {},
   "outputs": [],
   "source": [
    "with open('new_data_split.csv', 'w') as f:\n",
    "    csv.writer(f).writerows([new_header] + new_data_split)"
   ]
  },
  {
   "cell_type": "code",
   "execution_count": 38,
   "metadata": {},
   "outputs": [
    {
     "data": {
      "text/plain": [
       "('file', 'subset', 'CH', 'JT', 'CK', 'SB', 'GA', 'group')"
      ]
     },
     "execution_count": 38,
     "metadata": {},
     "output_type": "execute_result"
    }
   ],
   "source": [
    "new_header"
   ]
  },
  {
   "cell_type": "code",
   "execution_count": null,
   "metadata": {},
   "outputs": [],
   "source": []
  },
  {
   "cell_type": "code",
   "execution_count": null,
   "metadata": {},
   "outputs": [],
   "source": []
  },
  {
   "cell_type": "code",
   "execution_count": null,
   "metadata": {},
   "outputs": [],
   "source": []
  },
  {
   "cell_type": "code",
   "execution_count": null,
   "metadata": {},
   "outputs": [],
   "source": []
  },
  {
   "cell_type": "code",
   "execution_count": null,
   "metadata": {},
   "outputs": [],
   "source": []
  },
  {
   "cell_type": "code",
   "execution_count": null,
   "metadata": {},
   "outputs": [],
   "source": []
  },
  {
   "cell_type": "code",
   "execution_count": null,
   "metadata": {},
   "outputs": [],
   "source": []
  },
  {
   "cell_type": "code",
   "execution_count": 60,
   "metadata": {},
   "outputs": [
    {
     "data": {
      "text/plain": [
       "(918,\n",
       " Counter({('normal', 'ungradable'): 34,\n",
       "          ('pre-plus', 'plus'): 31,\n",
       "          ('pre-plus', 'normal'): 66,\n",
       "          ('ungradable', 'normal'): 667,\n",
       "          ('normal', 'pre-plus'): 71,\n",
       "          ('plus', 'pre-plus'): 20,\n",
       "          ('pre-plus', 'ungradable'): 1,\n",
       "          ('normal', 'plus'): 16,\n",
       "          ('plus', 'normal'): 5,\n",
       "          ('ungradable', 'pre-plus'): 3,\n",
       "          ('ungradable', 'plus'): 3,\n",
       "          ('plus', 'ungradable'): 1}))"
      ]
     },
     "execution_count": 60,
     "metadata": {},
     "output_type": "execute_result"
    }
   ],
   "source": [
    "with open('disagreementsGongyu/Gill_regrade_CH-JT_cheat.csv', 'r') as f:\n",
    "    reader = csv.reader(f)\n",
    "    header = next(reader)\n",
    "    data = list(reader)\n",
    "    \n",
    "i_CH, i_JT = header.index('CH'), header.index('JT')\n",
    "len(data), Counter([(row[i_CH], row[i_JT]) for row in data])"
   ]
  },
  {
   "cell_type": "code",
   "execution_count": 61,
   "metadata": {},
   "outputs": [
    {
     "data": {
      "text/plain": [
       "Counter({('normal', 'normal'): 2356,\n",
       "         ('ungradable', 'normal'): 667,\n",
       "         ('normal', 'pre-plus'): 71,\n",
       "         ('ungradable', 'ungradable'): 285,\n",
       "         ('normal', 'plus'): 16,\n",
       "         ('plus', 'plus'): 101,\n",
       "         ('pre-plus', 'normal'): 66,\n",
       "         ('pre-plus', 'pre-plus'): 50,\n",
       "         ('pre-plus', 'plus'): 31,\n",
       "         ('normal', 'ungradable'): 34,\n",
       "         ('plus', 'pre-plus'): 20,\n",
       "         ('ungradable', 'pre-plus'): 3,\n",
       "         ('ungradable', 'plus'): 3,\n",
       "         ('plus', 'normal'): 5,\n",
       "         ('pre-plus', 'ungradable'): 1,\n",
       "         ('plus', 'ungradable'): 1})"
      ]
     },
     "execution_count": 61,
     "metadata": {},
     "output_type": "execute_result"
    }
   ],
   "source": [
    "ch = [junior_data[file, 'CH'] for file in files if (file, 'CH') in junior_data]\n",
    "jt = [junior_data[file, 'JT'] for file in files if (file, 'JT') in junior_data]\n",
    "Counter(zip(ch, jt))"
   ]
  },
  {
   "cell_type": "code",
   "execution_count": 62,
   "metadata": {},
   "outputs": [
    {
     "data": {
      "text/plain": [
       "(1456,\n",
       " Counter({('normal', 'ungradable'): 178,\n",
       "          ('ungradable', 'normal'): 73,\n",
       "          ('pre-plus', 'ungradable'): 3,\n",
       "          ('pre-plus', 'normal'): 13,\n",
       "          ('normal', 'pre-plus'): 909,\n",
       "          ('pre-plus', 'plus'): 177,\n",
       "          ('normal', 'plus'): 89,\n",
       "          ('normal', '?'): 2,\n",
       "          ('ungradable', 'pre-plus'): 3,\n",
       "          ('plus', 'normal'): 3,\n",
       "          ('plus', 'pre-plus'): 6}))"
      ]
     },
     "execution_count": 62,
     "metadata": {},
     "output_type": "execute_result"
    }
   ],
   "source": [
    "with open('disagreementsGongyu/Gill_regrade_SB-CK_cheat.csv', 'r') as f:\n",
    "    reader = csv.reader(f)\n",
    "    header = next(reader)\n",
    "    data = list(reader)\n",
    "    \n",
    "i_SB, i_CK = header.index('SB'), header.index('CK')\n",
    "len(data), Counter([(row[i_SB], row[i_CK]) for row in data])"
   ]
  },
  {
   "cell_type": "code",
   "execution_count": 63,
   "metadata": {},
   "outputs": [
    {
     "data": {
      "text/plain": [
       "Counter({('normal', 'pre-plus'): 840,\n",
       "         ('ungradable', 'ungradable'): 36,\n",
       "         ('normal', 'normal'): 1560,\n",
       "         ('pre-plus', 'plus'): 37,\n",
       "         ('normal', 'ungradable'): 295,\n",
       "         ('normal', 'plus'): 326,\n",
       "         ('ungradable', 'normal'): 146,\n",
       "         ('pre-plus', 'pre-plus'): 71,\n",
       "         ('ungradable', 'pre-plus'): 71,\n",
       "         ('pre-plus', 'normal'): 155,\n",
       "         ('pre-plus', 'ungradable'): 25,\n",
       "         ('ungradable', 'plus'): 23,\n",
       "         ('plus', 'normal'): 70,\n",
       "         ('plus', 'pre-plus'): 29,\n",
       "         ('plus', 'plus'): 13,\n",
       "         ('plus', 'ungradable'): 13})"
      ]
     },
     "execution_count": 63,
     "metadata": {},
     "output_type": "execute_result"
    }
   ],
   "source": [
    "sb = [junior_data[file, 'SB'] for file in files if (file, 'SB') in junior_data]\n",
    "ck = [junior_data[file, 'CK'] for file in files if (file, 'CK') in junior_data]\n",
    "Counter(zip(sb, ck))"
   ]
  }
 ],
 "metadata": {
  "kernelspec": {
   "display_name": "Python 3",
   "language": "python",
   "name": "python3"
  },
  "language_info": {
   "codemirror_mode": {
    "name": "ipython",
    "version": 3
   },
   "file_extension": ".py",
   "mimetype": "text/x-python",
   "name": "python",
   "nbconvert_exporter": "python",
   "pygments_lexer": "ipython3",
   "version": "3.6.9"
  }
 },
 "nbformat": 4,
 "nbformat_minor": 4
}
